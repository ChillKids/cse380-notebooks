{
  "nbformat": 4,
  "nbformat_minor": 0,
  "metadata": {
    "colab": {
      "name": "10_3_About_Patterns_and_Probabilities.ipynb",
      "provenance": [],
      "authorship_tag": "ABX9TyPNRN6ikcgI798GoO+Ivy3H",
      "include_colab_link": true
    },
    "kernelspec": {
      "name": "python3",
      "display_name": "Python 3.8.0 64-bit",
      "metadata": {
        "interpreter": {
          "hash": "fc0940015f1a213f94692d1bb0f6f94a406415fa94d32b2f3f9e51375e35b42e"
        }
      }
    }
  },
  "cells": [
    {
      "cell_type": "markdown",
      "metadata": {
        "id": "view-in-github",
        "colab_type": "text"
      },
      "source": [
        "<a href=\"https://colab.research.google.com/github/byui-cse/cse380-notebooks/blob/master/10_3_About_Patterns_and_Probabilities.ipynb\" target=\"_parent\"><img src=\"https://colab.research.google.com/assets/colab-badge.svg\" alt=\"Open In Colab\"/></a>"
      ]
    },
    {
      "cell_type": "markdown",
      "metadata": {
        "id": "ORT063X6qemA"
      },
      "source": [
        "# About Patterns and Probabilities\n",
        "## Class Directed Learning\n",
        "### Due: Tuesday, 9 March 2021, 11:59 pm"
      ]
    },
    {
      "cell_type": "markdown",
      "metadata": {
        "id": "3uLuCScqqu_B"
      },
      "source": [
        "## TODO Explore and Wonder"
      ]
    },
    {
      "cell_type": "markdown",
      "metadata": {
        "id": "NxqhXwDAq2-t"
      },
      "source": [
        "Regarding spanning trees of ladder graphs:\n",
        "\n",
        "What is the probability ($\\lim_{n \\rightarrow \\infty} P(n)$) that a randomly-selected spanning tree of an $n$-rung ladder graph contains the bottom rung?\n",
        "\n",
        "| n | P(n) |\n",
        "|---|------|\n",
        "| 1 |      |\n",
        "| 2 |      |\n",
        "| 3 |      |\n",
        "| 4 |      |\n",
        "| 5 |      |\n"
      ]
    },
    {
      "cell_type": "markdown",
      "metadata": {
        "id": "5I1vmRcJrWuL"
      },
      "source": [
        "### Recurrence Relations"
      ]
    },
    {
      "cell_type": "markdown",
      "metadata": {
        "id": "6DLWZ6IbrZxo"
      },
      "source": [
        "Let $f(n) =$ NSTIBR$(n)$:\n",
        "\n",
        "$f(n) = 4f(n-1) - f(n-2)$ for $n > 1$;\n",
        "\n",
        "$f(0) = 1$,\n",
        "\n",
        "$f(1) = 1$.\n",
        "\n",
        "Let $g(n) =$ NST$(n)$:\n",
        "\n",
        "$g(n) = 4g(n-1) - g(n-2)$ for $n > 1$;\n",
        "\n",
        "$g(0) = 0$,\n",
        "\n",
        "$g(1) = 1$."
      ]
    },
    {
      "cell_type": "code",
      "execution_count": null,
      "metadata": {},
      "outputs": [],
      "source": []
    },
    {
      "cell_type": "markdown",
      "metadata": {
        "id": "Pnza6EawsXDG"
      },
      "source": [
        "#### TODO Check Recurrences"
      ]
    },
    {
      "cell_type": "markdown",
      "metadata": {
        "id": "qZYRsZH7tDn6"
      },
      "source": [
        "Check the calculations in this table (maybe write recursive functions) to verify they are accurate.\n",
        "\n",
        "Do they match what you found yesterday in your DPC?"
      ]
    },
    {
      "cell_type": "markdown",
      "metadata": {
        "id": "YBgTCBGysYf5"
      },
      "source": [
        "| n | f(n) | f(n-1) | 4f(n-1)  | f(n - 2) | diff |\n",
        "|---|-----:|-------:|---------:|---------:|-----:|\n",
        "| 0 |    1 |    N/A |      N/A |      N/A |  N/A |\n",
        "| 1 |    1 |      1 |        4 |      N/A |  N/A |\n",
        "| 2 |    3 |      1 |        4 |        1 |    3 |\n",
        "| 3 |   11 |      3 |       12 |        1 |   11 |\n",
        "| 4 |   41 |     11 |       44 |        3 |   41 |\n",
        "| 5 |  153 |     41 |      164 |       11 |  153 |"
      ]
    },
    {
      "cell_type": "markdown",
      "metadata": {
        "id": "4fqIc8DMsiHo"
      },
      "source": [
        "| n | g(n) | g(n-1) | 4g(n-1)  | g(n - 2) | diff |\n",
        "|---|-----:|-------:|---------:|---------:|-----:|\n",
        "| 0 |    0 |    N/A |      N/A |      N/A |  N/A |\n",
        "| 1 |    1 |      0 |        0 |      N/A |  N/A |\n",
        "| 2 |    4 |      1 |        4 |        0 |    4 |\n",
        "| 3 |   15 |      4 |       16 |        1 |   15 |\n",
        "| 4 |   56 |     15 |       60 |        4 |   56 |\n",
        "| 5 |  209 |     56 |      224 |       15 |  209 |"
      ]
    },
    {
      "cell_type": "markdown",
      "metadata": {
        "id": "n1o1Dnn5slb9"
      },
      "source": [
        "### TODO Find closed-form formulas"
      ]
    },
    {
      "cell_type": "markdown",
      "metadata": {
        "id": "K1JrJf4pst3x"
      },
      "source": [
        "Can you find closed-form formulas for $f(n)$ and $g(n)$?\n",
        "\n",
        "A closed-form formula expressing these functions in terms of operations on $n$, **without** referring to previous calculated values of the functions."
      ]
    },
    {
      "cell_type": "code",
      "execution_count": 2,
      "metadata": {},
      "outputs": [
        {
          "output_type": "stream",
          "name": "stdout",
          "text": [
            "NST: 1\nNST: 1\nNSTIBR: 1\n\nNST: 2\nNST: 4\nNSTIBR: 3\n\nNST: 3\nNST: 15\nNSTIBR: 11\n\nNST: 4\nNST: 56\nNSTIBR: 41\n\nNST: 5\nNST: 209\nNSTIBR: 153\n\nNST: 6\nNST: 780\nNSTIBR: 571\n\nNST: 7\nNST: 2911\nNSTIBR: 2131\n\nNST: 8\nNST: 10863\nNSTIBR: 7952\n\nNST: 9\nNST: 40545\nNSTIBR: 29682\n\nNST: 10\nNST: 151315\nNSTIBR: 110770\n\nNST: 11\nNST: 564718\nNSTIBR: 413403\n\nNST: 12\nNST: 2107559\nNSTIBR: 1542841\n\nNST: 13\nNST: 7865520\nNSTIBR: 5757961\n\nNST: 14\nNST: 29354523\nNSTIBR: 21489003\n\nNST: 15\nNST: 109552574\nNSTIBR: 80198051\n\nNST: 16\nNST: 408855775\nNSTIBR: 299303201\n\nNST: 17\nNST: 1525870528\nNSTIBR: 1117014753\n\nNST: 18\nNST: 5694626339\nNSTIBR: 4168755811\n\nNST: 19\nNST: 21252634830\nNSTIBR: 15558008491\n\nNST: 20\nNST: 79315912983\nNSTIBR: 58063278153\n\nNST: 21\nNST: 296011017104\nNSTIBR: 216695104121\n\nNST: 22\nNST: 1104728155435\nNSTIBR: 808717138331\n\nNST: 23\nNST: 4122901604638\nNSTIBR: 3018173449203\n\nNST: 24\nNST: 15386878263119\nNSTIBR: 11263976658481\n\nNST: 25\nNST: 57424611447840\nNSTIBR: 42037733184721\n\nNST: 26\nNST: 214311567528243\nNSTIBR: 156886956080403\n\nNST: 27\nNST: 799821658665134\nNSTIBR: 585510091136891\n\nNST: 28\nNST: 2984975067132294\nNSTIBR: 2185153408467160\n\nNST: 29\nNST: 11140078609864042\nNSTIBR: 8155103542731748\n\nNST: 30\nNST: 41575339372323872\nNSTIBR: 30435260762459830\n\nNST: 31\nNST: 155161278879431456\nNSTIBR: 113585939507107584\n\nNST: 32\nNST: 579069776145401856\nNSTIBR: 423908497265970400\n\nNST: 33\nNST: 2161117825702176000\nNSTIBR: 1582048049556774144\n\nNST: 34\nNST: 8065401526663301120\nNSTIBR: 5904283700961125120\n\nNST: 35\nNST: 30100488280951029760\nNSTIBR: 22035086754287728640\n\nNST: 36\nNST: 112336551597140819968\nNSTIBR: 82236063316189790208\n\nNST: 37\nNST: 419245718107612250112\nNSTIBR: 306909166510471430144\n\nNST: 38\nNST: 1564646320833308131328\nNSTIBR: 1145400602725695881216\n\nNST: 39\nNST: 5839339565225619750912\nNSTIBR: 4274693244392311619584\n\nNST: 40\nNST: 21792711940069170085888\nNSTIBR: 15953372374843550334976\n\nNST: 41\nNST: 81331508195051060592640\nNSTIBR: 59538796254981890506752\n\nNST: 42\nNST: 303533320840135084867584\nNSTIBR: 222201812645084024274944\n\nNST: 43\nNST: 1132801775165489245323264\nNSTIBR: 829268454325354160455680\n\nNST: 44\nNST: 4227673779821821560881152\nNSTIBR: 3094872004656332315557888\n\nNST: 45\nNST: 15777893344121799011467264\nNSTIBR: 11550219564299977450586112\n\nNST: 46\nNST: 58883899596665368579407872\nNSTIBR: 43106006252543569567940608\n\nNST: 47\nNST: 219757705042539640946425856\nNSTIBR: 160873805445874272367017984\n\nNST: 48\nNST: 820146920573493298285510656\nNSTIBR: 600389215530953657339084800\n\nNST: 49\nNST: 3060829977251433242957971456\nNSTIBR: 2240683056677939944672460800\n\n"
          ]
        }
      ],
      "source": [
        "import math\n",
        "\n",
        "def NSTCount(n):\n",
        "    return (1/ (2 * math.sqrt(3)) * (2 + math.sqrt(3)) ** n - 1/ (2 * math.sqrt(3)) * (2 - math.sqrt(3)) ** n)\n",
        "\n",
        "def closed_NSTIBR(n):\n",
        "  return int(1/ (2 * math.sqrt(3)) * (2 + math.sqrt(3)) ** n - 1/ (2 * math.sqrt(3)) * (2 - math.sqrt(3)) ** n) - int(1/ (2 * math.sqrt(3)) * (2 + math.sqrt(3)) ** (n-1) - 1/ (2 * math.sqrt(3)) * (2 - math.sqrt(3)) ** (n-1))\n",
        "\n",
        "\n",
        "# Driver code\n",
        "for n in range(1, 50):\n",
        "    NST = math.floor((NSTCount(n)))\n",
        "    NSTIBR = closed_NSTIBR(n)\n",
        "    print(f\"NST: {n}\" )\n",
        "    print(f\"NST: {math.floor(NSTCount(n))}\" )\n",
        "    print(f\"NSTIBR: {math.floor(closed_NSTIBR(n))}\\n\" )\n"
      ]
    },
    {
      "cell_type": "markdown",
      "metadata": {
        "id": "pBhSqKKI2b6u"
      },
      "source": [
        "#### Hint:"
      ]
    },
    {
      "cell_type": "markdown",
      "metadata": {
        "id": "7ovCUy-52dUh"
      },
      "source": [
        "http://www.ist.tugraz.at/aichholzer/teaching/eca/spanning_trees_in_ladders.pdf"
      ]
    },
    {
      "cell_type": "markdown",
      "metadata": {
        "id": "ZyzBmWV_teue"
      },
      "source": [
        "#### Possibly Illuminating Calculations"
      ]
    },
    {
      "cell_type": "code",
      "execution_count": null,
      "metadata": {},
      "outputs": [],
      "source": []
    },
    {
      "cell_type": "markdown",
      "metadata": {
        "id": "GnSc0aQ-qaNI"
      },
      "source": [
        "Remember continued fractions?"
      ]
    },
    {
      "cell_type": "code",
      "metadata": {
        "id": "8X1u-ZeFqQsn"
      },
      "source": [
        "from fractions import Fraction as frac\n",
        "\n",
        "def contfrac2frac(seq):\n",
        "    \"\"\"Convert the simple continued fraction in `seq`\n",
        "       into a fraction with numerator num and denominator den.\n",
        "    \"\"\"\n",
        "    num, den = 1, 0\n",
        "    for u in reversed(seq):\n",
        "        num, den = den + num * u, num\n",
        "    return frac(num, den)\n",
        "\n",
        "def frac2contfrac(f):\n",
        "    \"\"\"Build the simple continued fraction expansion of fraction f.\n",
        "    \"\"\"\n",
        "    seq = []\n",
        "    frac2contfrac_rec(f, seq)\n",
        "    return seq\n",
        "\n",
        "def frac2contfrac_rec(f, seq):\n",
        "    n = f.numerator\n",
        "    d = f.denominator\n",
        "    if d != 0:\n",
        "        seq.append(n // d)\n",
        "        if n % d != 0:\n",
        "            frac2contfrac_rec(frac(d, n % d), seq)\n",
        "\n",
        "def eval_frac(f):\n",
        "    \"\"\"Evaluate the fraction f as a float.\n",
        "    \"\"\"\n",
        "    return f.numerator / f.denominator"
      ],
      "execution_count": 1,
      "outputs": []
    },
    {
      "cell_type": "code",
      "metadata": {
        "id": "YYH6Mf1ztnfu"
      },
      "source": [
        "from math import sqrt\n",
        "\n",
        "value = sqrt(3) - 1\n",
        "value_as_cf = frac2contfrac(frac.from_float(value))[:21]\n",
        "cf_to_value = contfrac2frac(value_as_cf)\n",
        "print(value, value_as_cf, cf_to_value)\n",
        "print(eval_frac(cf_to_value))"
      ],
      "execution_count": null,
      "outputs": []
    },
    {
      "cell_type": "code",
      "metadata": {
        "id": "yviS2YG_t2rx"
      },
      "source": [
        "from pprint import pprint\n",
        "\n",
        "pprint(list(map(lambda n: contfrac2frac(value_as_cf[:n]), range(20, 5, -1))))"
      ],
      "execution_count": null,
      "outputs": []
    },
    {
      "cell_type": "code",
      "execution_count": 4,
      "metadata": {},
      "outputs": [
        {
          "output_type": "stream",
          "name": "stdout",
          "text": [
            "NSTIBR / NST: 1.0\n\nNSTIBR / NST: 0.75\n\nNSTIBR / NST: 0.7333333333333333\n\nNSTIBR / NST: 0.7321428571428571\n\nNSTIBR / NST: 0.7320574162679426\n\nNSTIBR / NST: 0.732051282051282\n\nNSTIBR / NST: 0.7320508416351769\n\nNSTIBR / NST: 0.7320261437908496\n\nNSTIBR / NST: 0.7320754716981132\n\nNSTIBR / NST: 0.7320490367775832\n\nNSTIBR / NST: 0.7320521038819375\n\nNSTIBR / NST: 0.7320511549142871\n\nNSTIBR / NST: 0.7320509006397543\n\nNSTIBR / NST: 0.7320508325071404\n\nNSTIBR / NST: 0.7320508142510646\n\nNSTIBR / NST: 0.732050809359364\n\nNSTIBR / NST: 0.7320508080486368\n\nNSTIBR / NST: 0.7320508076974285\n\nNSTIBR / NST: 0.7320508076033224\n\nNSTIBR / NST: 0.7320508075781068\n\nNSTIBR / NST: 0.7320508075713503\n\nNSTIBR / NST: 0.73205080756954\n\nNSTIBR / NST: 0.7320508075690548\n\nNSTIBR / NST: 0.7320508075689248\n\nNSTIBR / NST: 0.7320508075688901\n\nNSTIBR / NST: 0.7320508075688807\n\nNSTIBR / NST: 0.7320508075688782\n\nNSTIBR / NST: 0.7320508075688774\n\nNSTIBR / NST: 0.7320508075688773\n\nNSTIBR / NST: 0.7320508075688773\n\nNSTIBR / NST: 0.7320508075688773\n\nNSTIBR / NST: 0.7320508075688773\n\nNSTIBR / NST: 0.7320508075688773\n\nNSTIBR / NST: 0.7320508075688773\n\nNSTIBR / NST: 0.7320508075688773\n\nNSTIBR / NST: 0.7320508075688773\n\nNSTIBR / NST: 0.7320508075688773\n\nNSTIBR / NST: 0.7320508075688773\n\nNSTIBR / NST: 0.7320508075688773\n\nNSTIBR / NST: 0.7320508075688773\n\nNSTIBR / NST: 0.7320508075688773\n\nNSTIBR / NST: 0.7320508075688773\n\nNSTIBR / NST: 0.7320508075688773\n\nNSTIBR / NST: 0.7320508075688773\n\nNSTIBR / NST: 0.7320508075688773\n\nNSTIBR / NST: 0.7320508075688773\n\nNSTIBR / NST: 0.7320508075688773\n\nNSTIBR / NST: 0.7320508075688773\n\nNSTIBR / NST: 0.7320508075688773\n\nNSTIBR / NST: 0.7320508075688773\n\nNSTIBR / NST: 0.7320508075688773\n\nNSTIBR / NST: 0.7320508075688773\n\nNSTIBR / NST: 0.7320508075688773\n\nNSTIBR / NST: 0.7320508075688773\n\nNSTIBR / NST: 0.7320508075688773\n\nNSTIBR / NST: 0.7320508075688773\n\nNSTIBR / NST: 0.7320508075688773\n\nNSTIBR / NST: 0.7320508075688773\n\nNSTIBR / NST: 0.7320508075688773\n\nNSTIBR / NST: 0.7320508075688773\n\nNSTIBR / NST: 0.7320508075688773\n\nNSTIBR / NST: 0.7320508075688773\n\nNSTIBR / NST: 0.7320508075688773\n\nNSTIBR / NST: 0.7320508075688773\n\nNSTIBR / NST: 0.7320508075688773\n\nNSTIBR / NST: 0.7320508075688773\n\nNSTIBR / NST: 0.7320508075688773\n\nNSTIBR / NST: 0.7320508075688773\n\nNSTIBR / NST: 0.7320508075688773\n\nNSTIBR / NST: 0.7320508075688773\n\nNSTIBR / NST: 0.7320508075688773\n\nNSTIBR / NST: 0.7320508075688773\n\nNSTIBR / NST: 0.7320508075688773\n\nNSTIBR / NST: 0.7320508075688773\n\nNSTIBR / NST: 0.7320508075688773\n\nNSTIBR / NST: 0.7320508075688773\n\nNSTIBR / NST: 0.7320508075688773\n\nNSTIBR / NST: 0.7320508075688772\n\nNSTIBR / NST: 0.7320508075688773\n\nNSTIBR / NST: 0.7320508075688773\n\nNSTIBR / NST: 0.7320508075688773\n\nNSTIBR / NST: 0.7320508075688773\n\nNSTIBR / NST: 0.7320508075688773\n\nNSTIBR / NST: 0.7320508075688772\n\nNSTIBR / NST: 0.7320508075688773\n\nNSTIBR / NST: 0.7320508075688773\n\nNSTIBR / NST: 0.7320508075688773\n\nNSTIBR / NST: 0.7320508075688773\n\nNSTIBR / NST: 0.7320508075688773\n\nNSTIBR / NST: 0.7320508075688773\n\nNSTIBR / NST: 0.7320508075688773\n\nNSTIBR / NST: 0.7320508075688773\n\nNSTIBR / NST: 0.7320508075688773\n\nNSTIBR / NST: 0.7320508075688773\n\nNSTIBR / NST: 0.7320508075688773\n\nNSTIBR / NST: 0.7320508075688773\n\nNSTIBR / NST: 0.7320508075688773\n\nNSTIBR / NST: 0.7320508075688773\n\nNSTIBR / NST: 0.7320508075688773\n\n"
          ]
        }
      ],
      "source": [
        "import math\n",
        "\n",
        "def NSTCount(n):\n",
        "    return (1/ (2 * math.sqrt(3)) * (2 + math.sqrt(3)) ** n - 1/ (2 * math.sqrt(3)) * (2 - math.sqrt(3)) ** n)\n",
        "\n",
        "def closed_NSTIBR(n):\n",
        "  return int(1/ (2 * math.sqrt(3)) * (2 + math.sqrt(3)) ** n - 1/ (2 * math.sqrt(3)) * (2 - math.sqrt(3)) ** n) - int(1/ (2 * math.sqrt(3)) * (2 + math.sqrt(3)) ** (n-1) - 1/ (2 * math.sqrt(3)) * (2 - math.sqrt(3)) ** (n-1))\n",
        "\n",
        "\n",
        "# Driver code\n",
        "for n in range(1, 100):\n",
        "    NST = math.floor((NSTCount(n)))\n",
        "    NSTIBR = closed_NSTIBR(n)\n",
        "    print(f\"NSTIBR / NST: {NSTIBR / NST}\\n\" )"
      ]
    },
    {
      "source": [
        "The percentage of the growth of g(n) is always around 73% when it is iterating when n > 3.\n",
        "Therefore when we use (g(n)- g(n-1))/ g(n), when n -> infinite. It will be almost equal to 73%.\n",
        "![title](./spanningTreeDPC10.png)\n"
      ],
      "cell_type": "markdown",
      "metadata": {}
    },
    {
      "cell_type": "code",
      "execution_count": null,
      "metadata": {},
      "outputs": [],
      "source": []
    }
  ]
}