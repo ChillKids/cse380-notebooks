{
  "nbformat": 4,
  "nbformat_minor": 0,
  "metadata": {
    "colab": {
      "name": "09_2_Ponder_and_Prove_Data_Compression.ipynb",
      "provenance": []
    },
    "kernelspec": {
      "name": "python3",
      "display_name": "Python 3.8.0 64-bit",
      "metadata": {
        "interpreter": {
          "hash": "fc0940015f1a213f94692d1bb0f6f94a406415fa94d32b2f3f9e51375e35b42e"
        }
      }
    }
  },
  "cells": [
    {
      "cell_type": "markdown",
      "metadata": {
        "id": "1rG4k7VvQ2WT"
      },
      "source": [
        "# Ponder and Prove Data Compression\n",
        "#### Due: Saturday, 6 March 2021, 11:59 pm."
      ]
    },
    {
      "cell_type": "markdown",
      "metadata": {
        "id": "W0WxE3IAQ2WU"
      },
      "source": [
        "# TODO Explore Huffman Trees and Huffman Codes\n"
      ]
    },
    {
      "cell_type": "markdown",
      "metadata": {
        "id": "w2vby9erSjOv"
      },
      "source": [
        "Your task is examine how to compress a *special piece of information* as compactly as possible, and **calculate various compression ratios**.\n",
        "\n",
        "Recall that the **compression ratio** of a variable-length encoding like Huffman encoding is the percentage $100(f - v)/f$, where $f$ is the number of bits per symbol of the smallest **fixed**-length encoding, and $v$ is the average number of bits per symbol with the variable-length encoding.\n",
        "\n",
        "For example, if there were 9 different symbols in a message, $f=4$ is the number of bits of the smallest fixed-length encoding, because $2^3 = 8$ (not enough for $9$) and $2^4 = 16$ (enough and to spare). If the variable-length encoding of the message had $v=3.12$, the compression ratio would be $100(4 - 3.12)/4 \\approx 22\\%$.\n",
        "\n",
        "Note that calculating the average number of bits per symbol is not strictly necessary. That's because an alternate and equivalent way is to calculate $100(ft - vt)/ft$, where $ft$ is the **total** number of bits encoded with the fixed encoding, and $vt$ is the **total** number of bits encoded with the variable-length encoding.\n",
        "\n",
        "The *special piece of information* to be compressed is a list of the first ten million primes. This is a list that starts\n",
        "\n",
        "|    |\n",
        "|----|\n",
        "|  2 |\n",
        "|  3 |\n",
        "|  5 |\n",
        "|  7 |\n",
        "| 11 |\n",
        "| 13 |\n",
        "| 17 |\n",
        "| 19 |\n",
        "| 23 |\n",
        "| 29 |\n",
        "\n",
        "  and ends\n",
        "\n",
        "|           |\n",
        "|-----------|\n",
        "| 179424551 |\n",
        "| 179424571 |\n",
        "| 179424577 |\n",
        "| 179424601 |\n",
        "| 179424611 |\n",
        "| 179424617 |\n",
        "| 179424629 |\n",
        "| 179424667 |\n",
        "| 179424671 |\n",
        "| 179424673 |\n",
        "\n",
        "As ASCII text stored in a file with one prime per line, the size of this data file is slightly over 89 megabytes. The goal is to compress this down to just over 5 megabytes (5589056 bytes, to be exact). That's a 94% compression ratio!\n",
        "\n",
        "Standard compression tools can only get about a 73% compression ratio for this ASCII data. A more clever approach is needed. Instead of compressing the list of prime numbers, compress a list of the *gaps* between them!\n",
        "\n",
        "It doesn't save much, just the unique (occurring only once) gap size of 1 between 2 and 3, but in the spirit of de Polignac's conjecture that every *even* number appears infinitely often as a gap between consecutive primes, just consider the even-sized gaps. The result will be a list that starts with 2 (the difference between 5 and 3), 2 (the difference between 7 and 5), 4 (the difference between 11 and 7), 2 (the difference between 13 and 11), 4 (the difference between 17 and 13), 2 (the difference between 19 and 17), 4 (the difference between 23 and 19), and 6 (the difference between 29 and 23).\n",
        "\n",
        "Generating this data is the first task. The algorithm for doing so is very straightforward:\n",
        "\n",
        "1. Find the gaps between consecutive odd primes.\n",
        "2. Store these gaps as a list of even numbers.\n",
        "\n",
        "Tabulating the results, the first ten gaps and the last ten gaps are as follows, where the numbers after the equals signs are the gaps to list:\n",
        "\n",
        "|                 |\n",
        "|-----------------|\n",
        "|  5  -   3  =  2 |\n",
        "|  7  -   5  =  2 |\n",
        "| 11  -   7  =  4 |\n",
        "| 13  -  11  =  2 |\n",
        "| 17  -  13  =  4 |\n",
        "| 19  -  17  =  2 |\n",
        "| 23  -  19  =  4 |\n",
        "| 29  -  23  =  6 |\n",
        "| 31  -  29  =  2 |\n",
        "| 37  -  31  =  6 |\n",
        "\n",
        "|                                |\n",
        "|--------------------------------|\n",
        "| 179424551  -  179424533  =  18 |\n",
        "| 179424571  -  179424551  =  20 |\n",
        "| 179424577  -  179424571  =   6 |\n",
        "| 179424601  -  179424577  =  24 |\n",
        "| 179424611  -  179424601  =  10 |\n",
        "| 179424617  -  179424611  =   6 |\n",
        "| 179424629  -  179424617  =  12 |\n",
        "| 179424667  -  179424629  =  38 |\n",
        "| 179424671  -  179424667  =   4 |\n",
        "| 179424673  -  179424671  =   2 |\n",
        "\n",
        "As a correctness check, see if your generated list of gaps has length 9999998.\n",
        "\n",
        "The next step is to count how many times each gap size occurs, so that for the Huffman encoding scheme, the larger the frequency of occurrence, the smaller the number of bits encoding that gap size.\n",
        "\n",
        "As a correctness check, here are the first ten and the last ten gap counts:\n",
        "\n",
        "|  Gap | Count   |\n",
        "|------|---------|\n",
        "|    2 |  738597 |\n",
        "|    4 |  738717 |\n",
        "|    6 | 1297540 |\n",
        "|    8 |  566151 |\n",
        "|   10 |  729808 |\n",
        "|   12 |  920661 |\n",
        "|   14 |  503524 |\n",
        "|   16 |  371677 |\n",
        "|   18 |  667734 |\n",
        "|   20 |  354267 |\n",
        "|      |         |\n",
        "|  190 |       1 |\n",
        "|  192 |       3 |\n",
        "|  194 |       1 |\n",
        "|  196 |       1 |\n",
        "|  198 |       6 |\n",
        "|  202 |       2 |\n",
        "|  204 |       3 |\n",
        "|  210 |       4 |\n",
        "|  220 |       1 |\n",
        "|  222 |       1 |\n",
        "\n",
        "Note two things from these partial gap counts:\n",
        "\n",
        "1. Small even numbers (< 100) are well represented, larger ones (< 1000) less so.\n",
        "2. Ten million primes aren't enough to have *every* even number represented; for example, 200, 206, 208, 212, 214, 216, and 218 do not appear even once.\n"
      ]
    },
    {
      "cell_type": "markdown",
      "metadata": {
        "id": "7CUIw8_k03JJ"
      },
      "source": [
        "# TODO Determine Exact Size of Data to be Compressed\n"
      ]
    },
    {
      "cell_type": "markdown",
      "metadata": {
        "id": "wB4sXf0X09Gv"
      },
      "source": [
        "Without actually doing it, imagine creating an ASCII file containing the first ten million primes, represented in decimal, one prime per line. Calculate the size of this file, so you can show an exceptional compression ratio from it (see below).\n",
        "\n",
        "Using a binary encoding instead of ASCII, each prime requires 32 bits (4 bytes), so the size of a binary file is easily determined.\n",
        "\n",
        "Using a fixed-width encoding of the gap counts, however, requires knowing how many different gap sizes there are, after which the calculation is straightforward."
      ]
    },
    {
      "cell_type": "code",
      "metadata": {
        "id": "g3htDo50n0Z-"
      },
      "source": [],
      "execution_count": null,
      "outputs": []
    },
    {
      "cell_type": "markdown",
      "metadata": {
        "id": "9HZChUyC09tJ"
      },
      "source": [
        "# TODO Use Functional Python\n"
      ]
    },
    {
      "cell_type": "markdown",
      "metadata": {
        "id": "j7vG1XqY1CaV"
      },
      "source": [
        "You are encouraged to use the [anytree](https://pypi.org/project/anytree) Python library, which has a nice exporter by way of which you can graphically view trees. (You may recall using this in DM1, and thus know that **anytree** depends on [graphviz](https://graphviz.org), which you also used.)\n",
        "\n",
        "This library uses the object-oriented features of Python to create and visualize trees. You are encouraged to use the functional features of Python as much as possible, achieving your results not by using some existing third-party libraries for building Huffman Trees and Codes, but writing your own code as cleanly and elegantly as you can."
      ]
    },
    {
      "cell_type": "markdown",
      "metadata": {
        "id": "TUB4mD8u1DCa"
      },
      "source": [
        "# TODO Achieve Target Compression Ratios"
      ]
    },
    {
      "cell_type": "markdown",
      "metadata": {
        "id": "8Vw71EqJ18eE"
      },
      "source": [
        "Your solution should correctly compute the following three compression ratios:\n",
        "\n",
        "| Ratio       | Value              |\n",
        "|-------------|--------------------|\n",
        "| From fixed  | 36.125168653605158 |\n",
        "| From binary |              86.03 |\n",
        "| From ASCII  |              94.02 | \n"
      ]
    },
    {
      "cell_type": "markdown",
      "metadata": {
        "id": "8UZpm75GXAOm"
      },
      "source": [
        "# My Work"
      ]
    },
    {
      "cell_type": "code",
      "metadata": {
        "colab": {
          "base_uri": "https://localhost:8080/"
        },
        "id": "DOSezFx8XDKU",
        "outputId": "623f71b0-db60-478d-fe81-1199332fbea6"
      },
      "source": [
        "!pip install pyprimesieve \r\n",
        "!pip install anytree"
      ],
      "execution_count": 43,
      "outputs": [
        {
          "output_type": "stream",
          "text": [
            "Requirement already satisfied: pyprimesieve in /usr/local/lib/python3.7/dist-packages (0.1.6)\n",
            "Collecting anytree\n",
            "\u001b[?25l  Downloading https://files.pythonhosted.org/packages/a8/65/be23d8c3ecd68d40541d49812cd94ed0f3ee37eb88669ca15df0e43daed1/anytree-2.8.0-py2.py3-none-any.whl (41kB)\n",
            "\u001b[K     |████████████████████████████████| 51kB 3.6MB/s \n",
            "\u001b[?25hRequirement already satisfied: six>=1.9.0 in /usr/local/lib/python3.7/dist-packages (from anytree) (1.15.0)\n",
            "Installing collected packages: anytree\n",
            "Successfully installed anytree-2.8.0\n"
          ],
          "name": "stdout"
        }
      ]
    },
    {
      "cell_type": "code",
      "metadata": {
        "colab": {
          "base_uri": "https://localhost:8080/"
        },
        "id": "i37CizvkXWqR",
        "outputId": "0ba31154-199c-42a4-ad10-71032352d8f0"
      },
      "source": [
        "from pyprimesieve import primes\r\n",
        "\r\n",
        "prime_list = primes(4, 179424674)\r\n",
        "\r\n",
        "list_of_gaps = []\r\n",
        "prev = 3\r\n",
        "gap = 0\r\n",
        "for prime in prime_list:\r\n",
        "    gap = prime - prev\r\n",
        "    #print(gap)\r\n",
        "    prev = prime\r\n",
        "    list_of_gaps.append(gap)\r\n",
        "list_of_gaps\r\n",
        "\r\n",
        "freq = {}\r\n",
        "for c in list_of_gaps:\r\n",
        "    if c in freq:\r\n",
        "        freq[c] += 1\r\n",
        "    else:\r\n",
        "        freq[c] = 1\r\n",
        "print(freq)\r\n",
        "sorted_freq = sorted(freq.items(), key=lambda x: x[0], reverse=False)\r\n",
        "length = len(list_of_gaps)"
      ],
      "execution_count": 113,
      "outputs": [
        {
          "output_type": "stream",
          "text": [
            "{2: 738597, 4: 738717, 6: 1297540, 8: 566151, 14: 503524, 10: 729808, 12: 920661, 18: 667734, 20: 354267, 22: 307230, 34: 129043, 24: 453215, 16: 371677, 26: 211203, 28: 229177, 30: 398713, 32: 123123, 36: 206722, 44: 64866, 42: 159956, 40: 111546, 52: 38800, 48: 93693, 38: 94682, 72: 17255, 50: 52183, 62: 16763, 54: 64157, 60: 55305, 58: 27985, 46: 54931, 56: 32224, 64: 17374, 68: 12368, 86: 3411, 66: 30960, 70: 17475, 78: 13758, 76: 7253, 82: 4791, 96: 3544, 112: 711, 100: 1923, 74: 8540, 90: 7056, 84: 9818, 114: 1125, 80: 6760, 88: 3454, 98: 1831, 92: 2259, 106: 933, 94: 2058, 118: 433, 132: 301, 104: 1168, 102: 2374, 110: 941, 126: 533, 120: 948, 148: 67, 108: 1634, 122: 287, 138: 210, 128: 183, 154: 43, 130: 211, 116: 439, 146: 46, 136: 100, 124: 318, 134: 128, 140: 140, 152: 52, 142: 90, 144: 123, 150: 94, 180: 10, 156: 57, 164: 20, 210: 4, 170: 18, 160: 27, 182: 5, 168: 25, 176: 11, 172: 4, 162: 27, 178: 12, 198: 6, 220: 1, 158: 19, 174: 10, 196: 1, 184: 4, 166: 9, 202: 2, 204: 3, 222: 1, 192: 3, 188: 1, 190: 1, 186: 3, 194: 1}\n"
          ],
          "name": "stdout"
        }
      ]
    },
    {
      "cell_type": "code",
      "metadata": {
        "colab": {
          "base_uri": "https://localhost:8080/"
        },
        "id": "IoQtib0UdLCj",
        "outputId": "93ce0a58-6832-45fd-adb4-8fbc1bb97d99"
      },
      "source": [
        "import math\r\n",
        "## Fixed Length\r\n",
        "\r\n",
        "key_sort_freq = sorted(sorted_freq, key= lambda x: x[0], reverse= True)\r\n",
        "fixed_list = [*map (lambda x : bin(x[0] // 2)[2:],  key_sort_freq)]\r\n",
        "print(fixed_list)\r\n",
        "longest_binary = bin(key_sort_freq[0][0] // 2)[2:]\r\n",
        "\r\n",
        "f = len(longest_binary)\r\n",
        "print(f\"the number of bits per symbol of the smallest fixed-length encoding is {f}\")"
      ],
      "execution_count": 127,
      "outputs": [
        {
          "output_type": "stream",
          "text": [
            "['1101111', '1101110', '1101001', '1100110', '1100101', '1100011', '1100010', '1100001', '1100000', '1011111', '1011110', '1011101', '1011100', '1011011', '1011010', '1011001', '1011000', '1010111', '1010110', '1010101', '1010100', '1010011', '1010010', '1010001', '1010000', '1001111', '1001110', '1001101', '1001100', '1001011', '1001010', '1001001', '1001000', '1000111', '1000110', '1000101', '1000100', '1000011', '1000010', '1000001', '1000000', '111111', '111110', '111101', '111100', '111011', '111010', '111001', '111000', '110111', '110110', '110101', '110100', '110011', '110010', '110001', '110000', '101111', '101110', '101101', '101100', '101011', '101010', '101001', '101000', '100111', '100110', '100101', '100100', '100011', '100010', '100001', '100000', '11111', '11110', '11101', '11100', '11011', '11010', '11001', '11000', '10111', '10110', '10101', '10100', '10011', '10010', '10001', '10000', '1111', '1110', '1101', '1100', '1011', '1010', '1001', '1000', '111', '110', '101', '100', '11', '10', '1']\n",
            "the number of bits per symbol of the smallest fixed-length encoding is 7\n"
          ],
          "name": "stdout"
        }
      ]
    },
    {
      "cell_type": "code",
      "metadata": {
        "id": "0uaca-VOjKy1"
      },
      "source": [
        "## Code from https://www.codespeedy.com/how-to-encode-a-string-in-huffman-coding-using-python/\r\n",
        "\r\n",
        "import heapq\r\n",
        "from collections import defaultdict\r\n",
        "def encode(frequency):\r\n",
        "    heap = [[weight, [symbol, '']] for symbol, weight in frequency.items()]\r\n",
        "    heapq.heapify(heap)\r\n",
        "    while len(heap) > 1:\r\n",
        "        low = heapq.heappop(heap)\r\n",
        "        high = heapq.heappop(heap)\r\n",
        "        for value in low[1:]:\r\n",
        "            value[1] = '0' + value[1]\r\n",
        "        for value in high[1:]:\r\n",
        "            value[1] = '1' +value[1]\r\n",
        "        heapq.heappush(heap, [low[0] + high[0]] + low[1:] + high[1:])\r\n",
        "    return sorted(heapq.heappop(heap)[1:], key=lambda p: (len(p[-1]), p))"
      ],
      "execution_count": 168,
      "outputs": []
    },
    {
      "cell_type": "code",
      "metadata": {
        "colab": {
          "base_uri": "https://localhost:8080/"
        },
        "id": "M4rvEfQDxbGL",
        "outputId": "7324d9ef-5b0b-4a91-92b1-9e94914a5ffd"
      },
      "source": [
        "## Variable Length\r\n",
        "from anytree import Node, RenderTree, find_by_attr\r\n",
        "from functools import reduce\r\n",
        "\r\n",
        "value_sort_freq = sorted(sorted_freq, key=lambda x: x[1], reverse=True)\r\n",
        "\r\n",
        "frequency = list(map(lambda x : x[1], value_sort_freq))\r\n",
        "string = list(map(lambda x : x[0], value_sort_freq))\r\n",
        "\r\n",
        "huffmancode = encode(freq)\r\n",
        "\r\n",
        "v = sum([*map(lambda x: freq[x[0]] * len(x[1]), huffmancode)]) / length\r\n",
        "\r\n",
        "print(f\"The average number of bits per symbol with the variable-length encoding {v}\")\r\n"
      ],
      "execution_count": 167,
      "outputs": [
        {
          "output_type": "stream",
          "text": [
            "[[738597, [2, '']], [738717, [4, '']], [1297540, [6, '']], [566151, [8, '']], [503524, [14, '']], [729808, [10, '']], [920661, [12, '']], [667734, [18, '']], [354267, [20, '']], [307230, [22, '']], [129043, [34, '']], [453215, [24, '']], [371677, [16, '']], [211203, [26, '']], [229177, [28, '']], [398713, [30, '']], [123123, [32, '']], [206722, [36, '']], [64866, [44, '']], [159956, [42, '']], [111546, [40, '']], [38800, [52, '']], [93693, [48, '']], [94682, [38, '']], [17255, [72, '']], [52183, [50, '']], [16763, [62, '']], [64157, [54, '']], [55305, [60, '']], [27985, [58, '']], [54931, [46, '']], [32224, [56, '']], [17374, [64, '']], [12368, [68, '']], [3411, [86, '']], [30960, [66, '']], [17475, [70, '']], [13758, [78, '']], [7253, [76, '']], [4791, [82, '']], [3544, [96, '']], [711, [112, '']], [1923, [100, '']], [8540, [74, '']], [7056, [90, '']], [9818, [84, '']], [1125, [114, '']], [6760, [80, '']], [3454, [88, '']], [1831, [98, '']], [2259, [92, '']], [933, [106, '']], [2058, [94, '']], [433, [118, '']], [301, [132, '']], [1168, [104, '']], [2374, [102, '']], [941, [110, '']], [533, [126, '']], [948, [120, '']], [67, [148, '']], [1634, [108, '']], [287, [122, '']], [210, [138, '']], [183, [128, '']], [43, [154, '']], [211, [130, '']], [439, [116, '']], [46, [146, '']], [100, [136, '']], [318, [124, '']], [128, [134, '']], [140, [140, '']], [52, [152, '']], [90, [142, '']], [123, [144, '']], [94, [150, '']], [10, [180, '']], [57, [156, '']], [20, [164, '']], [4, [210, '']], [18, [170, '']], [27, [160, '']], [5, [182, '']], [25, [168, '']], [11, [176, '']], [4, [172, '']], [27, [162, '']], [12, [178, '']], [6, [198, '']], [1, [220, '']], [19, [158, '']], [10, [174, '']], [1, [196, '']], [4, [184, '']], [9, [166, '']], [2, [202, '']], [3, [204, '']], [1, [222, '']], [3, [192, '']], [1, [188, '']], [1, [190, '']], [3, [186, '']], [1, [194, '']]]\n",
            "The average number of bits per symbol with the variable-length encoding 4.471238194247639\n"
          ],
          "name": "stdout"
        }
      ]
    },
    {
      "cell_type": "code",
      "metadata": {
        "id": "k1SQ0yK_Mcmd"
      },
      "source": [
        "## Binary Encoding\r\n",
        "b = 32"
      ],
      "execution_count": 139,
      "outputs": []
    },
    {
      "cell_type": "code",
      "metadata": {
        "colab": {
          "base_uri": "https://localhost:8080/"
        },
        "id": "xeMtblWOQ5aW",
        "outputId": "76681cab-0666-457e-b7ac-00716a867014"
      },
      "source": [
        "## ASCII Encoding\r\n",
        "#a = sum([*map(lambda x : len(str(x[0])) * 8 * x[1], sorted_freq)]) / length\r\n",
        "\r\n",
        "a = sum([*map(lambda x : len(str(x)) * 8 + 8, prime_list)]) / length\r\n",
        "print(a)"
      ],
      "execution_count": 155,
      "outputs": [
        {
          "output_type": "stream",
          "text": [
            "74.78757175751436\n"
          ],
          "name": "stdout"
        }
      ]
    },
    {
      "cell_type": "code",
      "metadata": {
        "colab": {
          "base_uri": "https://localhost:8080/"
        },
        "id": "xwyzhV0qrehH",
        "outputId": "b871e120-631d-4ad0-e5a1-4b47e10b59bd"
      },
      "source": [
        "print(f\"From Fixed : {100*(f-v)/f}\")\r\n",
        "print(f\"From Binary : {100*(b-v)/b}\")\r\n",
        "print(f\"From ASCII : {100*(a-v)/a}\")"
      ],
      "execution_count": 156,
      "outputs": [
        {
          "output_type": "stream",
          "text": [
            "From Fixed : 36.12516865360516\n",
            "From Binary : 86.02738064297613\n",
            "From ASCII : 94.02141547161762\n"
          ],
          "name": "stdout"
        }
      ]
    },
    {
      "cell_type": "code",
      "metadata": {
        "colab": {
          "base_uri": "https://localhost:8080/"
        },
        "id": "CVz6_zFfUkbF",
        "outputId": "2070f5bc-2429-44eb-95bb-15fb92f4c58b"
      },
      "source": [
        "# code from Brother Neff\n",
        "from anytree import Node, RenderTree, PreOrderIter, Walker\n",
        "from anytree.util import leftsibling, rightsibling\n",
        "from anytree.exporter.dotexporter import DotExporter\n",
        "from collections import Counter\n",
        "from queue import PriorityQueue\n",
        "from math import ceil, floor, log\n",
        "from sympy import primerange\n",
        "\n",
        "def realprimes_up_to(n):\n",
        "  return list(primerange(4, n))\n",
        "\n",
        "def get_list_of_gaps(pl):\n",
        "  gaps_list = list(map(lambda i: pl[i] - pl[i - 1], range(1, len(pl))))\n",
        "  gaps_list = [2] + gaps_list # [2] for the gap between 3 and 5\n",
        "  return gaps_list\n",
        "\n",
        "class GapNode(Node):\n",
        "  def __lt__(self, other):\n",
        "    return self.count < other.count\n",
        "\n",
        "node_counter = 0\n",
        "def next_node_name():\n",
        "  global node_counter\n",
        "  name = 'gn' + str(node_counter)\n",
        "  node_counter += 1\n",
        "  return name\n",
        "\n",
        "def new_node(gp, ct):\n",
        "  return GapNode(next_node_name(), gap = gp, count = ct)\n",
        "\n",
        "def new_internal_node(left, right):\n",
        "  return GapNode(next_node_name(), children = [left, right],\n",
        "                 gap = 0, count = left.count + right.count)\n",
        "\n",
        "def make_huffman_tree(gaps_list):\n",
        "  gap_dict = Counter(gaps_list)\n",
        "  q = PriorityQueue()\n",
        "  for key, val in gap_dict.items():\n",
        "    q.put(new_node(key, val))\n",
        "\n",
        "  while q.qsize() > 1:\n",
        "    left = q.get()\n",
        "    right = q.get()\n",
        "    q.put(new_internal_node(left, right))\n",
        "\n",
        "  return q.get()\n",
        "\n",
        "def get_codes(root):\n",
        "  leaves = [node for node in PreOrderIter(root, filter_=lambda n: not n.children)]\n",
        "  codes = {}\n",
        "  w = Walker()\n",
        "  for leaf in leaves:\n",
        "    path = w.walk(leaf, root)[0]\n",
        "    code = ''\n",
        "    for node in path:\n",
        "      code = ('1' if leftsibling(node) else '0') + code\n",
        "    codes[leaf.gap] = tuple([code, leaf.count])\n",
        "  return codes\n",
        "\n",
        "def compression_ratio(f, v):\n",
        "  return 100 * (f - v) / f\n",
        "\n",
        "def get_encoded_size(codes):\n",
        "  return sum([len(code) * count for gap, (code, count) in codes.items()])\n",
        "\n",
        "def get_fixed_size(codes):\n",
        "  num_keys = len(codes)\n",
        "  num_bits_per_key = ceil(log(num_keys, 2))\n",
        "  return sum([num_bits_per_key * count for gap, (code, count) in codes.items()])\n",
        "\n",
        "def report(codes):\n",
        "  return compression_ratio(get_fixed_size(codes), get_encoded_size(codes))\n",
        "\n",
        "def test_up_to(primes, upper, results):\n",
        "  list_of_gaps = get_list_of_gaps(primes[:upper])\n",
        "  print(primes[:upper])\n",
        "  print(list_of_gaps)\n",
        "  root = make_huffman_tree(list_of_gaps)\n",
        "  print(RenderTree(root))\n",
        "  DotExporter(root).to_picture(f'huffmanTree.png')\n",
        "  codes = get_codes(root)\n",
        "  print(upper, '-->', get_encoded_size(codes))\n",
        "  cr = round(report(codes))\n",
        "  results[upper - 1] = cr # adjust since upper is the number of primes, -1 to make it just odd primes\n",
        "\n",
        "primes = realprimes_up_to(179424674)\n",
        "results = {}\n",
        "for n in range(3, 9999999):\n",
        "    test_up_to(primes, n, results)\n",
        "\n",
        "resultsde.name))"
      ],
      "execution_count": 1,
      "outputs": [
        {
          "output_type": "stream",
          "name": "stdout",
          "text": [
            "[5, 7, 11]\n",
            "[2, 2, 4]\n",
            "GapNode('/gn2', count=3, gap=0)\n",
            "├── GapNode('/gn2/gn1', count=1, gap=4)\n",
            "└── GapNode('/gn2/gn0', count=2, gap=2)\n",
            "3 --> 3\n",
            "[5, 7, 11, 13]\n",
            "[2, 2, 4, 2]\n",
            "GapNode('/gn5', count=4, gap=0)\n",
            "├── GapNode('/gn5/gn4', count=1, gap=4)\n",
            "└── GapNode('/gn5/gn3', count=3, gap=2)\n",
            "4 --> 4\n",
            "[5, 7, 11, 13, 17]\n",
            "[2, 2, 4, 2, 4]\n",
            "GapNode('/gn8', count=5, gap=0)\n",
            "├── GapNode('/gn8/gn7', count=2, gap=4)\n",
            "└── GapNode('/gn8/gn6', count=3, gap=2)\n",
            "5 --> 5\n",
            "[5, 7, 11, 13, 17, 19]\n",
            "[2, 2, 4, 2, 4, 2]\n",
            "GapNode('/gn11', count=6, gap=0)\n",
            "├── GapNode('/gn11/gn10', count=2, gap=4)\n",
            "└── GapNode('/gn11/gn9', count=4, gap=2)\n",
            "6 --> 6\n",
            "[5, 7, 11, 13, 17, 19, 23]\n",
            "[2, 2, 4, 2, 4, 2, 4]\n",
            "GapNode('/gn14', count=7, gap=0)\n",
            "├── GapNode('/gn14/gn13', count=3, gap=4)\n",
            "└── GapNode('/gn14/gn12', count=4, gap=2)\n",
            "7 --> 7\n",
            "[5, 7, 11, 13, 17, 19, 23, 29]\n",
            "[2, 2, 4, 2, 4, 2, 4, 6]\n",
            "GapNode('/gn19', count=8, gap=0)\n",
            "├── GapNode('/gn19/gn15', count=4, gap=2)\n",
            "└── GapNode('/gn19/gn18', count=4, gap=0)\n",
            "    ├── GapNode('/gn19/gn18/gn17', count=1, gap=6)\n",
            "    └── GapNode('/gn19/gn18/gn16', count=3, gap=4)\n",
            "8 --> 12\n",
            "[5, 7, 11, 13, 17, 19, 23, 29, 31]\n",
            "[2, 2, 4, 2, 4, 2, 4, 6, 2]\n",
            "GapNode('/gn24', count=9, gap=0)\n",
            "├── GapNode('/gn24/gn23', count=4, gap=0)\n",
            "│   ├── GapNode('/gn24/gn23/gn22', count=1, gap=6)\n",
            "│   └── GapNode('/gn24/gn23/gn21', count=3, gap=4)\n",
            "└── GapNode('/gn24/gn20', count=5, gap=2)\n",
            "9 --> 13\n",
            "[5, 7, 11, 13, 17, 19, 23, 29, 31, 37]\n",
            "[2, 2, 4, 2, 4, 2, 4, 6, 2, 6]\n",
            "GapNode('/gn29', count=10, gap=0)\n",
            "├── GapNode('/gn29/gn25', count=5, gap=2)\n",
            "└── GapNode('/gn29/gn28', count=5, gap=0)\n",
            "    ├── GapNode('/gn29/gn28/gn27', count=2, gap=6)\n",
            "    └── GapNode('/gn29/gn28/gn26', count=3, gap=4)\n",
            "10 --> 15\n",
            "[5, 7, 11, 13, 17, 19, 23, 29, 31, 37, 41]\n",
            "[2, 2, 4, 2, 4, 2, 4, 6, 2, 6, 4]\n",
            "GapNode('/gn34', count=11, gap=0)\n",
            "├── GapNode('/gn34/gn30', count=5, gap=2)\n",
            "└── GapNode('/gn34/gn33', count=6, gap=0)\n",
            "    ├── GapNode('/gn34/gn33/gn32', count=2, gap=6)\n",
            "    └── GapNode('/gn34/gn33/gn31', count=4, gap=4)\n",
            "11 --> 17\n",
            "[5, 7, 11, 13, 17, 19, 23, 29, 31, 37, 41, 43]\n",
            "[2, 2, 4, 2, 4, 2, 4, 6, 2, 6, 4, 2]\n",
            "GapNode('/gn39', count=12, gap=0)\n",
            "├── GapNode('/gn39/gn35', count=6, gap=2)\n",
            "└── GapNode('/gn39/gn38', count=6, gap=0)\n",
            "    ├── GapNode('/gn39/gn38/gn37', count=2, gap=6)\n",
            "    └── GapNode('/gn39/gn38/gn36', count=4, gap=4)\n",
            "12 --> 18\n",
            "[5, 7, 11, 13, 17, 19, 23, 29, 31, 37, 41, 43, 47]\n",
            "[2, 2, 4, 2, 4, 2, 4, 6, 2, 6, 4, 2, 4]\n",
            "GapNode('/gn44', count=13, gap=0)\n",
            "├── GapNode('/gn44/gn40', count=6, gap=2)\n",
            "└── GapNode('/gn44/gn43', count=7, gap=0)\n",
            "    ├── GapNode('/gn44/gn43/gn42', count=2, gap=6)\n",
            "    └── GapNode('/gn44/gn43/gn41', count=5, gap=4)\n",
            "13 --> 20\n",
            "[5, 7, 11, 13, 17, 19, 23, 29, 31, 37, 41, 43, 47, 53]\n",
            "[2, 2, 4, 2, 4, 2, 4, 6, 2, 6, 4, 2, 4, 6]\n",
            "GapNode('/gn49', count=14, gap=0)\n",
            "├── GapNode('/gn49/gn45', count=6, gap=2)\n",
            "└── GapNode('/gn49/gn48', count=8, gap=0)\n",
            "    ├── GapNode('/gn49/gn48/gn47', count=3, gap=6)\n",
            "    └── GapNode('/gn49/gn48/gn46', count=5, gap=4)\n",
            "14 --> 22\n",
            "[5, 7, 11, 13, 17, 19, 23, 29, 31, 37, 41, 43, 47, 53, 59]\n",
            "[2, 2, 4, 2, 4, 2, 4, 6, 2, 6, 4, 2, 4, 6, 6]\n",
            "GapNode('/gn54', count=15, gap=0)\n",
            "├── GapNode('/gn54/gn50', count=6, gap=2)\n",
            "└── GapNode('/gn54/gn53', count=9, gap=0)\n",
            "    ├── GapNode('/gn54/gn53/gn52', count=4, gap=6)\n",
            "    └── GapNode('/gn54/gn53/gn51', count=5, gap=4)\n",
            "15 --> 24\n",
            "[5, 7, 11, 13, 17, 19, 23, 29, 31, 37, 41, 43, 47, 53, 59, 61]\n",
            "[2, 2, 4, 2, 4, 2, 4, 6, 2, 6, 4, 2, 4, 6, 6, 2]\n",
            "GapNode('/gn59', count=16, gap=0)\n",
            "├── GapNode('/gn59/gn55', count=7, gap=2)\n",
            "└── GapNode('/gn59/gn58', count=9, gap=0)\n",
            "    ├── GapNode('/gn59/gn58/gn57', count=4, gap=6)\n",
            "    └── GapNode('/gn59/gn58/gn56', count=5, gap=4)\n",
            "16 --> 25\n",
            "[5, 7, 11, 13, 17, 19, 23, 29, 31, 37, 41, 43, 47, 53, 59, 61, 67]\n",
            "[2, 2, 4, 2, 4, 2, 4, 6, 2, 6, 4, 2, 4, 6, 6, 2, 6]\n",
            "GapNode('/gn64', count=17, gap=0)\n",
            "├── GapNode('/gn64/gn60', count=7, gap=2)\n",
            "└── GapNode('/gn64/gn63', count=10, gap=0)\n",
            "    ├── GapNode('/gn64/gn63/gn61', count=5, gap=4)\n",
            "    └── GapNode('/gn64/gn63/gn62', count=5, gap=6)\n",
            "17 --> 27\n",
            "[5, 7, 11, 13, 17, 19, 23, 29, 31, 37, 41, 43, 47, 53, 59, 61, 67, 71]\n",
            "[2, 2, 4, 2, 4, 2, 4, 6, 2, 6, 4, 2, 4, 6, 6, 2, 6, 4]\n",
            "GapNode('/gn69', count=18, gap=0)\n",
            "├── GapNode('/gn69/gn65', count=7, gap=2)\n",
            "└── GapNode('/gn69/gn68', count=11, gap=0)\n",
            "    ├── GapNode('/gn69/gn68/gn67', count=5, gap=6)\n",
            "    └── GapNode('/gn69/gn68/gn66', count=6, gap=4)\n",
            "18 --> 29\n",
            "[5, 7, 11, 13, 17, 19, 23, 29, 31, 37, 41, 43, 47, 53, 59, 61, 67, 71, 73]\n",
            "[2, 2, 4, 2, 4, 2, 4, 6, 2, 6, 4, 2, 4, 6, 6, 2, 6, 4, 2]\n",
            "GapNode('/gn74', count=19, gap=0)\n",
            "├── GapNode('/gn74/gn70', count=8, gap=2)\n",
            "└── GapNode('/gn74/gn73', count=11, gap=0)\n",
            "    ├── GapNode('/gn74/gn73/gn72', count=5, gap=6)\n",
            "    └── GapNode('/gn74/gn73/gn71', count=6, gap=4)\n",
            "19 --> 30\n",
            "[5, 7, 11, 13, 17, 19, 23, 29, 31, 37, 41, 43, 47, 53, 59, 61, 67, 71, 73, 79]\n",
            "[2, 2, 4, 2, 4, 2, 4, 6, 2, 6, 4, 2, 4, 6, 6, 2, 6, 4, 2, 6]\n",
            "GapNode('/gn79', count=20, gap=0)\n",
            "├── GapNode('/gn79/gn75', count=8, gap=2)\n",
            "└── GapNode('/gn79/gn78', count=12, gap=0)\n",
            "    ├── GapNode('/gn79/gn78/gn76', count=6, gap=4)\n",
            "    └── GapNode('/gn79/gn78/gn77', count=6, gap=6)\n",
            "20 --> 32\n",
            "[5, 7, 11, 13, 17, 19, 23, 29, 31, 37, 41, 43, 47, 53, 59, 61, 67, 71, 73, 79, 83]\n",
            "[2, 2, 4, 2, 4, 2, 4, 6, 2, 6, 4, 2, 4, 6, 6, 2, 6, 4, 2, 6, 4]\n",
            "GapNode('/gn84', count=21, gap=0)\n",
            "├── GapNode('/gn84/gn80', count=8, gap=2)\n",
            "└── GapNode('/gn84/gn83', count=13, gap=0)\n",
            "    ├── GapNode('/gn84/gn83/gn82', count=6, gap=6)\n",
            "    └── GapNode('/gn84/gn83/gn81', count=7, gap=4)\n",
            "21 --> 34\n",
            "[5, 7, 11, 13, 17, 19, 23, 29, 31, 37, 41, 43, 47, 53, 59, 61, 67, 71, 73, 79, 83, 89]\n",
            "[2, 2, 4, 2, 4, 2, 4, 6, 2, 6, 4, 2, 4, 6, 6, 2, 6, 4, 2, 6, 4, 6]\n",
            "GapNode('/gn89', count=22, gap=0)\n",
            "├── GapNode('/gn89/gn85', count=8, gap=2)\n",
            "└── GapNode('/gn89/gn88', count=14, gap=0)\n",
            "    ├── GapNode('/gn89/gn88/gn86', count=7, gap=4)\n",
            "    └── GapNode('/gn89/gn88/gn87', count=7, gap=6)\n",
            "22 --> 36\n",
            "[5, 7, 11, 13, 17, 19, 23, 29, 31, 37, 41, 43, 47, 53, 59, 61, 67, 71, 73, 79, 83, 89, 97]\n",
            "[2, 2, 4, 2, 4, 2, 4, 6, 2, 6, 4, 2, 4, 6, 6, 2, 6, 4, 2, 6, 4, 6, 8]\n",
            "GapNode('/gn96', count=23, gap=0)\n",
            "├── GapNode('/gn96/gn94', count=8, gap=0)\n",
            "│   ├── GapNode('/gn96/gn94/gn93', count=1, gap=8)\n",
            "│   └── GapNode('/gn96/gn94/gn92', count=7, gap=6)\n",
            "└── GapNode('/gn96/gn95', count=15, gap=0)\n",
            "    ├── GapNode('/gn96/gn95/gn91', count=7, gap=4)\n",
            "    └── GapNode('/gn96/gn95/gn90', count=8, gap=2)\n",
            "23 --> 46\n",
            "[5, 7, 11, 13, 17, 19, 23, 29, 31, 37, 41, 43, 47, 53, 59, 61, 67, 71, 73, 79, 83, 89, 97, 101]\n",
            "[2, 2, 4, 2, 4, 2, 4, 6, 2, 6, 4, 2, 4, 6, 6, 2, 6, 4, 2, 6, 4, 6, 8, 4]\n",
            "GapNode('/gn103', count=24, gap=0)\n",
            "├── GapNode('/gn103/gn101', count=8, gap=0)\n",
            "│   ├── GapNode('/gn103/gn101/gn100', count=1, gap=8)\n",
            "│   └── GapNode('/gn103/gn101/gn99', count=7, gap=6)\n",
            "└── GapNode('/gn103/gn102', count=16, gap=0)\n",
            "    ├── GapNode('/gn103/gn102/gn98', count=8, gap=4)\n",
            "    └── GapNode('/gn103/gn102/gn97', count=8, gap=2)\n",
            "24 --> 48\n",
            "[5, 7, 11, 13, 17, 19, 23, 29, 31, 37, 41, 43, 47, 53, 59, 61, 67, 71, 73, 79, 83, 89, 97, 101, 103]\n",
            "[2, 2, 4, 2, 4, 2, 4, 6, 2, 6, 4, 2, 4, 6, 6, 2, 6, 4, 2, 6, 4, 6, 8, 4, 2]\n",
            "GapNode('/gn110', count=25, gap=0)\n",
            "├── GapNode('/gn110/gn104', count=9, gap=2)\n",
            "└── GapNode('/gn110/gn109', count=16, gap=0)\n",
            "    ├── GapNode('/gn110/gn109/gn105', count=8, gap=4)\n",
            "    └── GapNode('/gn110/gn109/gn108', count=8, gap=0)\n",
            "        ├── GapNode('/gn110/gn109/gn108/gn107', count=1, gap=8)\n",
            "        └── GapNode('/gn110/gn109/gn108/gn106', count=7, gap=6)\n",
            "25 --> 49\n",
            "[5, 7, 11, 13, 17, 19, 23, 29, 31, 37, 41, 43, 47, 53, 59, 61, 67, 71, 73, 79, 83, 89, 97, 101, 103, 107]\n",
            "[2, 2, 4, 2, 4, 2, 4, 6, 2, 6, 4, 2, 4, 6, 6, 2, 6, 4, 2, 6, 4, 6, 8, 4, 2, 4]\n",
            "GapNode('/gn117', count=26, gap=0)\n",
            "├── GapNode('/gn117/gn112', count=9, gap=4)\n",
            "└── GapNode('/gn117/gn116', count=17, gap=0)\n",
            "    ├── GapNode('/gn117/gn116/gn115', count=8, gap=0)\n",
            "    │   ├── GapNode('/gn117/gn116/gn115/gn114', count=1, gap=8)\n",
            "    │   └── GapNode('/gn117/gn116/gn115/gn113', count=7, gap=6)\n",
            "    └── GapNode('/gn117/gn116/gn111', count=9, gap=2)\n",
            "26 --> 51\n",
            "[5, 7, 11, 13, 17, 19, 23, 29, 31, 37, 41, 43, 47, 53, 59, 61, 67, 71, 73, 79, 83, 89, 97, 101, 103, 107, 109]\n",
            "[2, 2, 4, 2, 4, 2, 4, 6, 2, 6, 4, 2, 4, 6, 6, 2, 6, 4, 2, 6, 4, 6, 8, 4, 2, 4, 2]\n",
            "GapNode('/gn124', count=27, gap=0)\n",
            "├── GapNode('/gn124/gn118', count=10, gap=2)\n",
            "└── GapNode('/gn124/gn123', count=17, gap=0)\n",
            "    ├── GapNode('/gn124/gn123/gn122', count=8, gap=0)\n",
            "    │   ├── GapNode('/gn124/gn123/gn122/gn121', count=1, gap=8)\n",
            "    │   └── GapNode('/gn124/gn123/gn122/gn120', count=7, gap=6)\n",
            "    └── GapNode('/gn124/gn123/gn119', count=9, gap=4)\n",
            "27 --> 52\n",
            "[5, 7, 11, 13, 17, 19, 23, 29, 31, 37, 41, 43, 47, 53, 59, 61, 67, 71, 73, 79, 83, 89, 97, 101, 103, 107, 109, 113]\n",
            "[2, 2, 4, 2, 4, 2, 4, 6, 2, 6, 4, 2, 4, 6, 6, 2, 6, 4, 2, 6, 4, 6, 8, 4, 2, 4, 2, 4]\n",
            "GapNode('/gn131', count=28, gap=0)\n",
            "├── GapNode('/gn131/gn126', count=10, gap=4)\n",
            "└── GapNode('/gn131/gn130', count=18, gap=0)\n",
            "    ├── GapNode('/gn131/gn130/gn129', count=8, gap=0)\n",
            "    │   ├── GapNode('/gn131/gn130/gn129/gn128', count=1, gap=8)\n",
            "    │   └── GapNode('/gn131/gn130/gn129/gn127', count=7, gap=6)\n",
            "    └── GapNode('/gn131/gn130/gn125', count=10, gap=2)\n",
            "28 --> 54\n",
            "[5, 7, 11, 13, 17, 19, 23, 29, 31, 37, 41, 43, 47, 53, 59, 61, 67, 71, 73, 79, 83, 89, 97, 101, 103, 107, 109, 113, 127]\n",
            "[2, 2, 4, 2, 4, 2, 4, 6, 2, 6, 4, 2, 4, 6, 6, 2, 6, 4, 2, 6, 4, 6, 8, 4, 2, 4, 2, 4, 14]\n",
            "GapNode('/gn140', count=29, gap=0)\n",
            "├── GapNode('/gn140/gn133', count=10, gap=4)\n",
            "└── GapNode('/gn140/gn139', count=19, gap=0)\n",
            "    ├── GapNode('/gn140/gn139/gn138', count=9, gap=0)\n",
            "    │   ├── GapNode('/gn140/gn139/gn138/gn137', count=2, gap=0)\n",
            "    │   │   ├── GapNode('/gn140/gn139/gn138/gn137/gn135', count=1, gap=8)\n",
            "    │   │   └── GapNode('/gn140/gn139/gn138/gn137/gn136', count=1, gap=14)\n",
            "    │   └── GapNode('/gn140/gn139/gn138/gn134', count=7, gap=6)\n",
            "    └── GapNode('/gn140/gn139/gn132', count=10, gap=2)\n",
            "29 --> 59\n",
            "[5, 7, 11, 13, 17, 19, 23, 29, 31, 37, 41, 43, 47, 53, 59, 61, 67, 71, 73, 79, 83, 89, 97, 101, 103, 107, 109, 113, 127, 131]\n",
            "[2, 2, 4, 2, 4, 2, 4, 6, 2, 6, 4, 2, 4, 6, 6, 2, 6, 4, 2, 6, 4, 6, 8, 4, 2, 4, 2, 4, 14, 4]\n",
            "GapNode('/gn149', count=30, gap=0)\n",
            "├── GapNode('/gn149/gn142', count=11, gap=4)\n",
            "└── GapNode('/gn149/gn148', count=19, gap=0)\n",
            "    ├── GapNode('/gn149/gn148/gn147', count=9, gap=0)\n",
            "    │   ├── GapNode('/gn149/gn148/gn147/gn146', count=2, gap=0)\n",
            "    │   │   ├── GapNode('/gn149/gn148/gn147/gn146/gn144', count=1, gap=8)\n",
            "    │   │   └── GapNode('/gn149/gn148/gn147/gn146/gn145', count=1, gap=14)\n",
            "    │   └── GapNode('/gn149/gn148/gn147/gn143', count=7, gap=6)\n",
            "    └── GapNode('/gn149/gn148/gn141', count=10, gap=2)\n",
            "30 --> 60\n",
            "[5, 7, 11, 13, 17, 19, 23, 29, 31, 37, 41, 43, 47, 53, 59, 61, 67, 71, 73, 79, 83, 89, 97, 101, 103, 107, 109, 113, 127, 131, 137]\n",
            "[2, 2, 4, 2, 4, 2, 4, 6, 2, 6, 4, 2, 4, 6, 6, 2, 6, 4, 2, 6, 4, 6, 8, 4, 2, 4, 2, 4, 14, 4, 6]\n",
            "GapNode('/gn158', count=31, gap=0)\n",
            "├── GapNode('/gn158/gn151', count=11, gap=4)\n",
            "└── GapNode('/gn158/gn157', count=20, gap=0)\n",
            "    ├── GapNode('/gn158/gn157/gn150', count=10, gap=2)\n",
            "    └── GapNode('/gn158/gn157/gn156', count=10, gap=0)\n",
            "        ├── GapNode('/gn158/gn157/gn156/gn155', count=2, gap=0)\n",
            "        │   ├── GapNode('/gn158/gn157/gn156/gn155/gn153', count=1, gap=8)\n",
            "        │   └── GapNode('/gn158/gn157/gn156/gn155/gn154', count=1, gap=14)\n",
            "        └── GapNode('/gn158/gn157/gn156/gn152', count=8, gap=6)\n",
            "31 --> 63\n",
            "[5, 7, 11, 13, 17, 19, 23, 29, 31, 37, 41, 43, 47, 53, 59, 61, 67, 71, 73, 79, 83, 89, 97, 101, 103, 107, 109, 113, 127, 131, 137, 139]\n",
            "[2, 2, 4, 2, 4, 2, 4, 6, 2, 6, 4, 2, 4, 6, 6, 2, 6, 4, 2, 6, 4, 6, 8, 4, 2, 4, 2, 4, 14, 4, 6, 2]\n",
            "GapNode('/gn167', count=32, gap=0)\n",
            "├── GapNode('/gn167/gn160', count=11, gap=4)\n",
            "└── GapNode('/gn167/gn166', count=21, gap=0)\n",
            "    ├── GapNode('/gn167/gn166/gn165', count=10, gap=0)\n",
            "    │   ├── GapNode('/gn167/gn166/gn165/gn164', count=2, gap=0)\n",
            "    │   │   ├── GapNode('/gn167/gn166/gn165/gn164/gn162', count=1, gap=8)\n",
            "    │   │   └── GapNode('/gn167/gn166/gn165/gn164/gn163', count=1, gap=14)\n",
            "    │   └── GapNode('/gn167/gn166/gn165/gn161', count=8, gap=6)\n",
            "    └── GapNode('/gn167/gn166/gn159', count=11, gap=2)\n",
            "32 --> 65\n"
          ]
        },
        {
          "output_type": "execute_result",
          "data": {
            "text/plain": [
              "{2: 0,\n",
              " 3: 0,\n",
              " 4: 0,\n",
              " 5: 0,\n",
              " 6: 0,\n",
              " 7: 25,\n",
              " 8: 28,\n",
              " 9: 25,\n",
              " 10: 23,\n",
              " 11: 25,\n",
              " 12: 23,\n",
              " 13: 21,\n",
              " 14: 20,\n",
              " 15: 22,\n",
              " 16: 21,\n",
              " 17: 19,\n",
              " 18: 21,\n",
              " 19: 20,\n",
              " 20: 19,\n",
              " 21: 18,\n",
              " 22: 0,\n",
              " 23: 0,\n",
              " 24: 2,\n",
              " 25: 2,\n",
              " 26: 4,\n",
              " 27: 4,\n",
              " 28: 32,\n",
              " 29: 33,\n",
              " 30: 32,\n",
              " 31: 32}"
            ]
          },
          "metadata": {},
          "execution_count": 1
        }
      ]
    },
    {
      "cell_type": "markdown",
      "metadata": {
        "id": "81dbKwHenxnT"
      },
      "source": [
        "# TODO My Report on What I Did and What I Learned"
      ]
    },
    {
      "cell_type": "markdown",
      "metadata": {
        "id": "C8BeiIern33B"
      },
      "source": [
        "## Fun\n"
      ]
    },
    {
      "cell_type": "markdown",
      "metadata": {
        "id": "ElukRLoezyxd"
      },
      "source": [
        "Try to build my own huffman encode in functional programming style and failed. "
      ]
    },
    {
      "cell_type": "markdown",
      "metadata": {
        "id": "OzOkZ3son-u9"
      },
      "source": [
        "## New"
      ]
    },
    {
      "cell_type": "markdown",
      "metadata": {
        "id": "3-nYIdEUz4x5"
      },
      "source": [
        "The huffman code above has used heap as the container to construct the huffman code. Very interesting approach for me who was still trying to a class to construct a tree."
      ]
    },
    {
      "cell_type": "markdown",
      "metadata": {
        "id": "mJHvoj6GokaZ"
      },
      "source": [
        "## Meaningful\n"
      ]
    },
    {
      "cell_type": "markdown",
      "metadata": {
        "id": "XOxh3XFTz-6N"
      },
      "source": [
        "I think in general in this is interesting. After understanding the questiona and have the huffman code done. Other is not hard. However, it is hard to know what question to ask before I understand that. So, I think this week, trying to learn what to ask was a big thing."
      ]
    },
    {
      "cell_type": "markdown",
      "metadata": {
        "id": "_RBE03fhpNUG"
      },
      "source": [
        "## Other"
      ]
    },
    {
      "cell_type": "markdown",
      "metadata": {
        "id": "d-sXEeq60C3W"
      },
      "source": [
        "Talked with Chase but we finally figured out the problems by ourselves so gj this week. "
      ]
    },
    {
      "cell_type": "markdown",
      "metadata": {
        "id": "Nrk-8EmgW4NP"
      },
      "source": [
        "# TODO What is True?\n",
        "Click on each warranted checkbox to toggle it to True (or back to False). \n",
        "\n",
        "NOTE: *This only works in Colab. If you run it in some other Jupyter notebook client/server environment you may have to change False to True (or vice versa) manually.*\n",
        "\n",
        "This self-assessment is subject to revision by a grader."
      ]
    },
    {
      "cell_type": "code",
      "metadata": {
        "id": "qGAjzgVRXR4M"
      },
      "source": [
        "#@markdown ## What is True about what I did?\n",
        "#@markdown ### I had fun.\n",
        "cb00 = True #@param {type:'boolean'}\n",
        "#@markdown ### I learned something new.\n",
        "cb01 = True #@param {type:'boolean'}\n",
        "#@markdown ### I achieved something meaningful, or something I can build upon at a later time.\n",
        "cb02 = True #@param {type:'boolean'}\n",
        "#@markdown ## What is True about my report?\n",
        "#@markdown ### I wrote a sufficient number of well-written sentences.\n",
        "cb03 = True #@param {type:'boolean'}\n",
        "#@markdown ### My report is free of mechanical infelicities.\n",
        "cb04 = True #@param {type:'boolean'}\n",
        "#@markdown ### I used Grammarly (or something better described in my report) to check for MIs.\n",
        "cb05 = True #@param {type:'boolean'}\n",
        "#@markdown ### I reported on any connections I found between these problems and something I already know. \n",
        "cb06 = True #@param {type:'boolean'}\n",
        "#@markdown ### I reported who were and what contribution each of my collaborators made.\n",
        "cb07 = True #@param {type:'boolean'}\n",
        "#@markdown ## What is True about my calculations?\n",
        "#@markdown ### I correctly calculated the number of times each gap size occurs. \n",
        "cb08 = True #@param {type:'boolean'}\n",
        "#@markdown ### I correctly calculated the number of bits per gap size with a fixed encoding.\n",
        "cb09 = True #@param {type:'boolean'}\n",
        "#@markdown ### I correctly calculated the total number of bits encoded with the Huffman encoding.\n",
        "cb10 = True #@param {type:'boolean'}\n",
        "#@markdown ### I correctly calculated the total number of bits encoded with the fixed encoding.\n",
        "cb11 = True #@param {type:'boolean'}\n",
        "#@markdown ### I correctly calculated the compression ratio from this fixed encoding.\n",
        "cb12 = True #@param {type:'boolean'}\n",
        "#@markdown ### I correctly calculated the size of the first ten million primes encoded as 32-bit integer binary data.\n",
        "cb13 = True #@param {type:'boolean'}\n",
        "#@markdown ### I correctly calculated the compression ratio from the binary size.\n",
        "cb14 = True #@param {type:'boolean'}\n",
        "#@markdown ### I correctly calculated the size of the first ten million primes encoded as ASCII data.\n",
        "cb15 = True #@param {type:'boolean'}\n",
        "#@markdown ### I correctly calculated the compression ratio from the ASCII size (just the primes, nothing else).\n",
        "cb16 = True #@param {type:'boolean'}"
      ],
      "execution_count": 160,
      "outputs": []
    },
    {
      "cell_type": "markdown",
      "metadata": {
        "id": "q8KESLBANSkC"
      },
      "source": [
        "## DO NOT CHANGE ANYTHING IN THE NEXT CODE CELL!!\n",
        "### Delete this cell and the following ones before submitting your work."
      ]
    },
    {
      "cell_type": "code",
      "metadata": {
        "id": "rJ_vaL0DWwoc",
        "colab": {
          "base_uri": "https://localhost:8080/"
        },
        "outputId": "1eb765a7-8a9e-4883-f6a2-9b0b15a510b8"
      },
      "source": [
        "points_for_what_I_did = [5]*3\n",
        "points_for_my_report = [8]*5\n",
        "points_for_my_calculations = [5]*9\n",
        "points = points_for_what_I_did + points_for_my_report + points_for_my_calculations\n",
        "# cb is short for checkbox\n",
        "total = sum(map(lambda n, p: p if eval(f'cb{n:02}') else 0,\n",
        "                range(len(points)), points))             \n",
        "total"
      ],
      "execution_count": 161,
      "outputs": [
        {
          "output_type": "execute_result",
          "data": {
            "text/plain": [
              "100"
            ]
          },
          "metadata": {
            "tags": []
          },
          "execution_count": 161
        }
      ]
    },
    {
      "cell_type": "markdown",
      "metadata": {
        "id": "muxeYgQQKGEU"
      },
      "source": [
        "# For graders"
      ]
    },
    {
      "cell_type": "code",
      "metadata": {
        "id": "c0ldoieNKMTU"
      },
      "source": [
        "#@markdown ---\n",
        "number_of_MIs_found = 0 #@param {type: 'slider', min: 0, max: 5}\n",
        "#@markdown ---\n"
      ],
      "execution_count": null,
      "outputs": []
    }
  ]
}