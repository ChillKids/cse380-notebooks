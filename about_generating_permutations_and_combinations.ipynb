{
  "nbformat": 4,
  "nbformat_minor": 0,
  "metadata": {
    "kernelspec": {
      "name": "python3",
      "display_name": "Python 3.8.0 64-bit",
      "metadata": {
        "interpreter": {
          "hash": "fc0940015f1a213f94692d1bb0f6f94a406415fa94d32b2f3f9e51375e35b42e"
        }
      }
    },
    "language_info": {
      "codemirror_mode": {
        "name": "ipython",
        "version": 3
      },
      "file_extension": ".py",
      "mimetype": "text/x-python",
      "name": "python",
      "nbconvert_exporter": "python",
      "pygments_lexer": "ipython3",
      "version": "3.8.0-final"
    },
    "colab": {
      "name": "about_generating_permutations_and_combinations.ipynb",
      "provenance": [],
      "include_colab_link": true
    }
  },
  "cells": [
    {
      "cell_type": "markdown",
      "metadata": {
        "id": "view-in-github",
        "colab_type": "text"
      },
      "source": [
        "<a href=\"https://colab.research.google.com/github/ChillKids/cse380-notebooks/blob/master/about_generating_permutations_and_combinations.ipynb\" target=\"_parent\"><img src=\"https://colab.research.google.com/assets/colab-badge.svg\" alt=\"Open In Colab\"/></a>"
      ]
    },
    {
      "cell_type": "markdown",
      "metadata": {
        "id": "1BeGZ5hBiWc_"
      },
      "source": [
        "# About Generating Permutations and Combinations\n",
        "## Divide Pair Conquer\n",
        "### Due: Monday, 1 February 2021, 11:59pm\n"
      ]
    },
    {
      "cell_type": "markdown",
      "metadata": {
        "id": "xe0WHKy0iWdH"
      },
      "source": [
        "There are many occasions when you need to *generate* the permutations or\n",
        "combinations of a set, not just count them.\n",
        "\n",
        "There are many algorithms for generating permutations and combinations --- you\n",
        "can find them if you look.\n",
        "\n",
        "For an application, from a biographical sketch about Donald Knuth by Kenneth\n",
        "Rosen, we learn that\n"
      ]
    },
    {
      "cell_type": "markdown",
      "metadata": {
        "id": "LWH4lD0uiWdI"
      },
      "source": [
        "> \"Knuth grew up in Milwaukee, where his father taught bookkeeping at a Lutheran\n",
        "high school and owned a small printing business. He was an excellent student,\n",
        "earning academic achievement awards. He applied his intelligence in\n",
        "unconventional ways, winning a contest when he was in the eighth grade by\n",
        "finding as many words as possible that could be formed from the letters in\n",
        "\n",
        "---\n",
        "\n",
        "> **Ziegler's Giant Bar**.\n",
        "\n",
        "___\n",
        "\n",
        "> This won a television set for his school and a candy bar for everyone in his class.\n"
      ]
    },
    {
      "cell_type": "markdown",
      "metadata": {
        "id": "99Bd2KbwiWdI"
      },
      "source": [
        "Knuth found over 4500 words. How many can **you** find?"
      ]
    },
    {
      "cell_type": "markdown",
      "metadata": {
        "id": "pZNj1nh3iWdJ"
      },
      "source": [
        "In this problem, we will be using combination. Cause look and look are the same words. Stupid me was thinking multiprocessing can fix every problem in the world. Recommanded running this with a .py file. I ended finding 207 in the en_US dictionary. "
      ]
    },
    {
      "cell_type": "code",
      "metadata": {
        "tags": [],
        "id": "3R4JoD-LiWdJ",
        "outputId": "60aade50-7a0b-45fc-96a7-f0140cefd968",
        "colab": {
          "base_uri": "https://localhost:8080/",
          "height": 395
        }
      },
      "source": [
        "from itertools import combinations\n",
        "from functools import reduce, partial\n",
        "import enchant\n",
        "import multiprocessing as mp\n",
        "\n",
        "\n",
        "dicts = [\"en_BW\", \"en_AU\", \"en_BZ\", \"en_GB\", \"en_JM\", \"en_DK\", \"en_HK\", \"en_GH\", \"en_US\", \"en_ZA\", \"en_ZW\", \"en_SG\", \"en_NZ\", \"en_BS\", \"en_AG\", \"en_PH\", \"en_IE\", \"en_NA\", \"en_TT\", \"en_IN\", \"en_NG\", \"en_CA\"]\n",
        "\n",
        "us = enchant.Dict(\"en_AU\")\n",
        "\n",
        "def split(word): \n",
        "    return list(word) \n",
        "\n",
        "def check(y, l):\n",
        "    return enchant.Dict(l).check(y)\n",
        "\n",
        "def checkwords(lang, n):\n",
        "    print(lang + \" Starting: \")\n",
        "    all_comb = [*filter(partial(check, l = lang) , n)]\n",
        "    comb = [x for x in n if x not in all_comb]\n",
        "    print(lang + \" - \" + str(len(all_comb)) + \", \" + str(len(comb)))\n",
        "    return all_comb\n",
        "      \n",
        "# Driver code \n",
        "if __name__ == '__main__':\n",
        "    word = \"zieglersgiantbar\"\n",
        "    comb = []\n",
        "    for i in range(1, 18):\n",
        "        comb.append([*combinations(split(word), i )])\n",
        "\n",
        "    comb = [*map(lambda x : [*map(lambda y: ' '.join(y).replace(\" \", \"\"), x)], comb)]\n",
        "    #    all_comb = reduce(lambda x, y: x + y, [x for x in [*map (lambda x : [*filter(check , x)], [*map(lambda x : [*map(lambda y: ' '.join(y).replace(\" \", \"\"), x)], comb)])] if x])\n",
        "    comb = reduce(lambda x, y: x + y, [x for x in comb if x])\n",
        "\n",
        "    with mp.Pool(16) as p:\n",
        "        words = p.map(partial(checkwords, n = comb), dicts)\n",
        "\n",
        "    words = reduce(lambda x, y: x + y, [x for x in words if x])\n",
        "    print(\"Total: \" + str(len(list(set(words))))) \n"
      ],
      "execution_count": 1,
      "outputs": [
        {
          "output_type": "error",
          "ename": "ModuleNotFoundError",
          "evalue": "ignored",
          "traceback": [
            "\u001b[0;31m---------------------------------------------------------------------------\u001b[0m",
            "\u001b[0;31mModuleNotFoundError\u001b[0m                       Traceback (most recent call last)",
            "\u001b[0;32m<ipython-input-1-0932e385fbd6>\u001b[0m in \u001b[0;36m<module>\u001b[0;34m()\u001b[0m\n\u001b[1;32m      1\u001b[0m \u001b[0;32mfrom\u001b[0m \u001b[0mitertools\u001b[0m \u001b[0;32mimport\u001b[0m \u001b[0mcombinations\u001b[0m\u001b[0;34m\u001b[0m\u001b[0;34m\u001b[0m\u001b[0m\n\u001b[1;32m      2\u001b[0m \u001b[0;32mfrom\u001b[0m \u001b[0mfunctools\u001b[0m \u001b[0;32mimport\u001b[0m \u001b[0mreduce\u001b[0m\u001b[0;34m,\u001b[0m \u001b[0mpartial\u001b[0m\u001b[0;34m\u001b[0m\u001b[0;34m\u001b[0m\u001b[0m\n\u001b[0;32m----> 3\u001b[0;31m \u001b[0;32mimport\u001b[0m \u001b[0menchant\u001b[0m\u001b[0;34m\u001b[0m\u001b[0;34m\u001b[0m\u001b[0m\n\u001b[0m\u001b[1;32m      4\u001b[0m \u001b[0;32mimport\u001b[0m \u001b[0mmultiprocessing\u001b[0m \u001b[0;32mas\u001b[0m \u001b[0mmp\u001b[0m\u001b[0;34m\u001b[0m\u001b[0;34m\u001b[0m\u001b[0m\n\u001b[1;32m      5\u001b[0m \u001b[0;34m\u001b[0m\u001b[0m\n",
            "\u001b[0;31mModuleNotFoundError\u001b[0m: No module named 'enchant'",
            "",
            "\u001b[0;31m---------------------------------------------------------------------------\u001b[0;32m\nNOTE: If your import is failing due to a missing package, you can\nmanually install dependencies using either !pip or !apt.\n\nTo view examples of installing some common dependencies, click the\n\"Open Examples\" button below.\n\u001b[0;31m---------------------------------------------------------------------------\u001b[0m\n"
          ]
        }
      ]
    },
    {
      "cell_type": "code",
      "metadata": {
        "id": "IFGqtLD1iWdL"
      },
      "source": [
        ""
      ],
      "execution_count": 1,
      "outputs": []
    },
    {
      "cell_type": "code",
      "metadata": {
        "id": "zankwjo4iWdL"
      },
      "source": [
        ""
      ],
      "execution_count": 1,
      "outputs": []
    },
    {
      "cell_type": "markdown",
      "metadata": {
        "id": "WF_8jO9sieG8"
      },
      "source": [
        "# Feedback"
      ]
    },
    {
      "cell_type": "markdown",
      "metadata": {
        "id": "n7n2xnX3ieAA"
      },
      "source": [
        "These are reviewed in Colab, so it would be easier to review them if you included code to make it compatible."
      ]
    }
  ]
}