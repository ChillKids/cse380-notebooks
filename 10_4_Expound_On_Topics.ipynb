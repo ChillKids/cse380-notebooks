{
  "nbformat": 4,
  "nbformat_minor": 0,
  "metadata": {
    "colab": {
      "name": "10_4_Expound_On_Topics.ipynb",
      "provenance": [],
      "authorship_tag": "ABX9TyOocSvOnYcl27xy1u47ZC1N",
      "include_colab_link": true
    },
    "kernelspec": {
      "name": "python3",
      "display_name": "Python 3.8.0 64-bit",
      "metadata": {
        "interpreter": {
          "hash": "fc0940015f1a213f94692d1bb0f6f94a406415fa94d32b2f3f9e51375e35b42e"
        }
      }
    }
  },
  "cells": [
    {
      "cell_type": "markdown",
      "metadata": {
        "id": "view-in-github",
        "colab_type": "text"
      },
      "source": [
        "<a href=\"https://colab.research.google.com/github/byui-cse/cse380-notebooks/blob/master/10_4_Expound_On_Topics.ipynb\" target=\"_parent\"><img src=\"https://colab.research.google.com/assets/colab-badge.svg\" alt=\"Open In Colab\"/></a>"
      ]
    },
    {
      "cell_type": "markdown",
      "metadata": {
        "id": "oJHkJ2xW7fQs"
      },
      "source": [
        "# Expound on Topics\n",
        "## More About Patterns and Probabilities\n",
        "### Wednesday, 10 March 2021"
      ]
    },
    {
      "cell_type": "markdown",
      "metadata": {
        "id": "1A-ypGegVqF7"
      },
      "source": [
        "## Solving Recurrences"
      ]
    },
    {
      "cell_type": "markdown",
      "metadata": {
        "id": "6DLWZ6IbrZxo"
      },
      "source": [
        "To emphasize again, the only difference between these two recurrence relations is the initial condition when n = 0:\n",
        "\n",
        "$f(n) = 4f(n-1) - f(n-2)$ for $n > 1$;\n",
        "\n",
        "$f(0) = 1$,\n",
        "\n",
        "$f(1) = 1$.\n",
        "\n",
        "---\n",
        "\n",
        "$g(n) = 4g(n-1) - g(n-2)$ for $n > 1$;\n",
        "\n",
        "$g(0) = 0$,\n",
        "\n",
        "$g(1) = 1$."
      ]
    },
    {
      "cell_type": "markdown",
      "metadata": {
        "id": "dDgCPMTRWusB"
      },
      "source": [
        "### Start Easy"
      ]
    },
    {
      "cell_type": "markdown",
      "metadata": {
        "id": "oamh2AcqWyBQ"
      },
      "source": [
        "Let's start with a relatively simple and well-known recurrence relation.\n",
        "\n",
        "This is an example of a **linear homogeneous** recurrence relation with **constant coefficients**:\n",
        "\n",
        "$F(n) = F(n-1) + F(n-2),$ for $n > 1$;\n",
        "\n",
        "$F(0) = 0,$\n",
        "\n",
        "$F(1) = 1.$"
      ]
    },
    {
      "cell_type": "markdown",
      "metadata": {
        "id": "yVxsJE2tXViH"
      },
      "source": [
        "This, of course, is the famous **Fibonacci** recurrence relation.\n",
        "\n",
        "In closed-form, formulas for linear homogeneous recurrence relations with constant coefficients look like:\n",
        "\n",
        "$y\\cdot r^n + z \\cdot s^n$\n",
        "\n",
        "where $y$, $z$, $r$, and $s$ are real numbers.\n",
        "\n",
        "Assume, for simplicity, that $y = 1$ and $z = 0$.\n",
        "\n",
        "(We'll come back and revise that assumption later.)\n",
        "\n",
        "So $F(n) = r^n$ for some real number $r$. Which one? Let's find out!\n",
        "\n",
        "In the original recurrence, plugging in $r^n$ for $F(n)$, $r^{n-1}$ for $F(n-1)$, and $r^{n-2}$ for $F(n-2)$ yields:\n",
        "\n",
        "$r^n = r^{n-1} + r^{n-2}.$\n",
        "\n",
        "Now divide each term in this equation by $r^{n-2}$, which is the largest term we can divide by without making some term turn into something less than 1. That division gives us:\n",
        "\n",
        "$r^2 = r + 1.$\n",
        "\n",
        "This is a quadratic that can be rewritten like this:\n",
        "\n",
        "$r^2 - r - 1 = 0.$\n",
        "\n",
        "In this form it is called the **characteristic equation** of the recurrence relation.\n",
        "\n",
        "The equation has two roots, which the quadratic formula will give us:"
      ]
    },
    {
      "cell_type": "markdown",
      "metadata": {
        "id": "J2L9Rcbza4y8"
      },
      "source": [
        "#### Root 1"
      ]
    },
    {
      "cell_type": "markdown",
      "metadata": {
        "id": "AACHt_rva6GZ"
      },
      "source": [
        "$r = \\frac{1 + \\sqrt{5}}{2} = \\phi \\approx 1.618$"
      ]
    },
    {
      "cell_type": "markdown",
      "metadata": {
        "id": "UyY-2mp_a8f2"
      },
      "source": [
        "#### Root 2"
      ]
    },
    {
      "cell_type": "markdown",
      "metadata": {
        "id": "xHE1ENZJa923"
      },
      "source": [
        "$s = \\frac{1 - \\sqrt{5}}{2} = (1 - \\phi) \\approx -0.618$"
      ]
    },
    {
      "cell_type": "markdown",
      "metadata": {
        "id": "sSQiWEa_bTFb"
      },
      "source": [
        "#### Almost there!"
      ]
    },
    {
      "cell_type": "markdown",
      "metadata": {
        "id": "DorIfgALbUmS"
      },
      "source": [
        "We finish by solving for $y$ and $z$ given $r$ and $s$ and the original recurrence relation's **initial conditions**:\n",
        "\n",
        "$F(n) = y\\cdot r^n + z\\cdot s^n$ means\n",
        "\n",
        "$F(0) = 0 = y\\cdot r^0 + z\\cdot s^0 = y + z.$\n",
        "\n",
        "So $z = -y$.\n",
        "\n",
        "$F(1) = 1 = y\\cdot r^1 + z\\cdot s^1 = yr + zs.$\n",
        "\n",
        "So $1 = yr - ys = y(r - s).$\n",
        "\n",
        "Therefore,\n",
        "\n",
        "$y = \\frac{1}{r - s}$, and\n",
        "\n",
        "$z = \\frac{-1}{r - s}.$\n",
        "\n",
        "Plugging in $(r - s) = \\sqrt{5}$ (verify this!) we get\n",
        "\n",
        "$y = \\frac{1}{\\sqrt{5}}$\n",
        "\n",
        "$z = \\frac{-1}{\\sqrt{5}}$\n",
        "\n",
        "So $F(n) = \\frac{1}{\\sqrt{5}}\\left(\\frac{1 + \\sqrt{5}}{2}\\right)^n - \\frac{1}{\\sqrt{5}}\\left(\\frac{1 - \\sqrt{5}}{2}\\right)^n$\n",
        "\n",
        ">> $= \\frac{1}{\\sqrt{5}}\\left[\\left(\\frac{1 + \\sqrt{5}}{2}\\right)^n - \\left(\\frac{1 - \\sqrt{5}}{2}\\right)^n\\right]$\n",
        "\n",
        "which is known as **Binet's formula**.\n",
        "\n",
        "With all those $\\sqrt{5}$ appearances, this is a surprising result that somehow yields only whole numbers constituting the Fibonacci sequence --- even though $\\sqrt{5}$ is irrational!"
      ]
    },
    {
      "cell_type": "markdown",
      "metadata": {
        "id": "rkjuyuv3ekmP"
      },
      "source": [
        "### Step It Up"
      ]
    },
    {
      "cell_type": "markdown",
      "metadata": {
        "id": "b_tIi3CEemrL"
      },
      "source": [
        "Perhaps $\\sqrt{3}$ features in the solutions to the ladder-graph spanning-tree recurrences?!"
      ]
    },
    {
      "source": [
        "$\\frac{1} {(2  \\sqrt{3})} * (2 + \\sqrt{3}) ^ n - \\frac{1}{(2  \\sqrt{3})} * (2 - \\sqrt{3}) ^ n$"
      ],
      "cell_type": "markdown",
      "metadata": {}
    },
    {
      "cell_type": "code",
      "execution_count": null,
      "metadata": {},
      "outputs": [],
      "source": [
        "import math\n",
        "\n",
        "def NSTCount(n):\n",
        "    return (1/ (2 * math.sqrt(3)) * (2 + math.sqrt(3)) ** n - 1/ (2 * math.sqrt(3)) * (2 - math.sqrt(3)) ** n)\n",
        "\n",
        "def closed_NSTIBR(n):\n",
        "  return int(1/ (2 * math.sqrt(3)) * (2 + math.sqrt(3)) ** n - 1/ (2 * math.sqrt(3)) * (2 - math.sqrt(3)) ** n) - int(1/ (2 * math.sqrt(3)) * (2 + math.sqrt(3)) ** (n-1) - 1/ (2 * math.sqrt(3)) * (2 - math.sqrt(3)) ** (n-1))\n",
        "\n",
        "\n",
        "# Driver code\n",
        "n = 10\n",
        "NST = math.floor((NSTCount(n)))\n",
        "NSTIBR = closed_NSTIBR(n)\n",
        "print(f\"NST: {n}\" )\n",
        "print(f\"NST: {math.floor(NSTCount(n))}\" )\n",
        "print(f\"NSTIBR: {math.floor(closed_NSTIBR(n))}\\n\" )"
      ]
    },
    {
      "cell_type": "markdown",
      "metadata": {
        "id": "MiFQCW2yeq4F"
      },
      "source": [
        "#### One Way to Find Out"
      ]
    },
    {
      "cell_type": "markdown",
      "metadata": {
        "id": "0hCzvTS2esiH"
      },
      "source": [
        "Try it!\n",
        "\n",
        "Use the Fibonacci example as a guide.\n",
        "\n",
        "$g(n)$ = $\\frac{1} {(2  \\sqrt{3})} * (2 + \\sqrt{3}) ^ n - \\frac{1}{(2  \\sqrt{3})} * (2 - \\sqrt{3}) ^ n$\n",
        "\n",
        "Are $f(n)$ and $g(n)$ linear homogeneous recurrence relations with constant coefficients?\n",
        "\n",
        "Yes, the constant coefficients of $f(n)$ and $g(n)$  = $\\frac{1} {2  \\sqrt{3}}$\n",
        "\n",
        "\n",
        "\n",
        "What are their characteristic equations?\n",
        "\n",
        "$F(n) = y\\cdot r^n + z\\cdot s^n$\n",
        "\n",
        "Plugging in $(r - s) = \\sqrt{3}$ (verify this!) we get\n",
        "\n",
        "$y = \\frac{1}{\\sqrt{3}}$\n",
        "\n",
        "$z = \\frac{-1}{\\sqrt{3}}$\n",
        "\n",
        "So $F(n) = \\frac{1}{\\sqrt{3}}\\left(\\frac{1 + \\sqrt{3}}{2}\\right)^n - \\frac{1}{\\sqrt{3}}\\left(\\frac{1 - \\sqrt{3}}{2}\\right)^n$\n",
        "\n",
        ">> $= \\frac{1}{\\sqrt{3}}\\left[\\left(\\frac{1 + \\sqrt{3}}{2}\\right)^n - \\left(\\frac{1 - \\sqrt{3}}{2}\\right)^n\\right]$\n",
        "\n",
        "\n",
        "What are $y$, $r$, $z$ and $s$ for each?\n",
        "\n",
        "$y = \\frac{1} {r - s}$\n",
        "\n",
        "$z = \\frac{-1} {r - s}$\n",
        "\n",
        "$r - s = \\sqrt{3}$\n",
        "\n",
        "$r = \\frac{1 + \\sqrt{3}}{2}$\n",
        "\n",
        "$s = \\frac{1 - \\sqrt{3}}{2}$\n",
        "\n",
        "\n",
        "When you think you have found their closed-form formulas make sure to double-check that they yield the same numbers as the original recurrence relations."
      ]
    },
    {
      "cell_type": "code",
      "execution_count": 10,
      "metadata": {},
      "outputs": [
        {
          "output_type": "stream",
          "name": "stdout",
          "text": [
            "False, NSTCount(n) = 1, closeNSTCount(n) = 0.8556624327025936, recursiveNST(n) = 1\nFalse, NSTCount(n) = 4, closeNSTCount(n) = 1.2834936490538904, recursiveNST(n) = 4\nFalse, NSTCount(n) = 15, closeNSTCount(n) = 3.3233711515528808, recursiveNST(n) = 15\nFalse, NSTCount(n) = 56, closeNSTCount(n) = 7.082252744287389, recursiveNST(n) = 56\nFalse, NSTCount(n) = 209, closeNSTCount(n) = 16.053683151864146, recursiveNST(n) = 209\nFalse, NSTCount(n) = 780, closeNSTCount(n) = 35.65274579593976, recursiveNST(n) = 780\nFalse, NSTCount(n) = 2911, closeNSTCount(n) = 79.7104291397494, recursiveNST(n) = 2911\nFalse, NSTCount(n) = 10863, closeNSTCount(n) = 177.82132462552082, recursiveNST(n) = 10864\nFalse, NSTCount(n) = 40545, closeNSTCount(n) = 396.9768032060723, recursiveNST(n) = 40545\n"
          ]
        }
      ],
      "source": [
        "\n",
        "import math\n",
        "# Recursive Function\n",
        "def recursiveNST(n):\n",
        "  if n == 1:\n",
        "    return 1\n",
        "  elif n <= 0:\n",
        "    return 0\n",
        "  else:\n",
        "    return 4 * recursiveNST(n-1) - recursiveNST(n-2)\n",
        "\n",
        "def recursiveNSTIBR(n):\n",
        "  if n <= 1:\n",
        "    return 1\n",
        "  else:\n",
        "    return 4 * recursiveNSTIBR(n-1) - recursiveNSTIBR(n-2)\n",
        "\n",
        "# Golden\n",
        "def NSTCount(n):\n",
        "    return math.floor((1/ (2 * math.sqrt(3)) * (2 + math.sqrt(3)) ** n - 1/ (2 * math.sqrt(3)) * (2 - math.sqrt(3)) ** n))\n",
        "\n",
        "# Close Function \n",
        "def closeNSTCount(n):\n",
        "    return (1/ (2 *(math.sqrt(3))) * (((1 + (2 * math.sqrt(3)))/2) ** n - (1 - (2 *(math.sqrt(3))) /2) ** n))\n",
        "\n",
        "def closed_NSTIBR(n):\n",
        "  return NSTCount(n) - NSTCount(n - 1)\n",
        "\n",
        "for n in range(1, 10):\n",
        "    print(NSTCount(n) == closeNSTCount(n) and  NSTCount(n) == recursiveNST(n), end=\"\")\n",
        "    print(f\", NSTCount(n) = {NSTCount(n)}, closeNSTCount(n) = {closeNSTCount(n)}, recursiveNST(n) = {recursiveNST(n)}\")\n",
        "\n",
        "\n"
      ]
    },
    {
      "cell_type": "code",
      "execution_count": null,
      "metadata": {},
      "outputs": [],
      "source": []
    }
  ]
}