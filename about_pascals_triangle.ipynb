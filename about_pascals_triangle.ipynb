{
 "cells": [
  {
   "cell_type": "markdown",
   "metadata": {},
   "source": [
    "# About Pascal’s Triangle\n",
    "## Class Directed Learning\n",
    "### Due: Tuesday, 2 February 2021, 11:59 pm"
   ]
  },
  {
   "cell_type": "markdown",
   "metadata": {},
   "source": [
    "## A Helper Function\n",
    "Exercise 253 on page 161 shows a recursive definition of `nCk`. Here's a much more efficient way to compute binomial coefficients, which perhaps you can profitably use in your investigations:\n"
   ]
  },
  {
   "cell_type": "code",
   "execution_count": 4,
   "metadata": {},
   "outputs": [],
   "source": [
    "from math import gcd\n",
    "\n",
    "def nCk(n, k):\n",
    "  if k < 0 or k > n:\n",
    "    return 0\n",
    "  else:\n",
    "    result = 1\n",
    "    d = 1\n",
    "    g = 1\n",
    "    m = min(k, n - k)\n",
    "    while (d <= m):\n",
    "      g = gcd(result, d)\n",
    "      result = n * (result // g)\n",
    "      result = (result // (d // g))\n",
    "      n -= 1\n",
    "      d += 1\n",
    "    return result"
   ]
  },
  {
   "cell_type": "markdown",
   "metadata": {},
   "source": [
    "## Predominant and Fundamental\n",
    "The predominant pattern, the fundamental symmetry in Pascal's triangle is captured by the identity:\n",
    "$${n \\choose k} = {n \\choose n - k}$$\n",
    "## Identify Identities\n",
    "Here are two different identities that point out the same pattern in Pascal's triangle. What is the name of this pattern?\n",
    "### Identity 1\n",
    "For nonnegative integers $r$ and $n$:\n",
    "$$\\sum^n_{k=0} {r+k \\choose k} = {r+n+1 \\choose n}$$\n",
    "### Identity 2\n",
    "For nonnegative integers $m$ and $n$:\n",
    "$$\\sum^n_{k=0} {k \\choose m} = {n+1 \\choose m+1}$$"
   ]
  },
  {
   "cell_type": "code",
   "execution_count": 36,
   "metadata": {},
   "outputs": [
    {
     "output_type": "stream",
     "name": "stdout",
     "text": [
      "70\n70\n10\n10\n"
     ]
    }
   ],
   "source": [
    "# Both of the Indentity derived from Hockey-Stick Identity\n",
    "r = 3\n",
    "n = 4\n",
    "## Identity 1\n",
    "result = sum([int(nCk(r + k, k)) for k in range(n + 1)])\n",
    "print(result)\n",
    "print(nCk(r+n+1, n))\n",
    "\n",
    "## Identity 2 \n",
    "m = 2\n",
    "result = sum([int(nCk(k, m)) for k in range(n + 1)])\n",
    "print(result)\n",
    "print(nCk(n+1, m+1))\n",
    "\n"
   ]
  },
  {
   "cell_type": "markdown",
   "metadata": {},
   "source": [
    "# Investigate A Possible Relationship\n",
    "Does any row in Pascal's Triangle have the Fibonacci numbers' relationship between three consecutive entries? In other words, where x, y, and z are three consecutive entries in a single row, does x + y = z?\n",
    "\n",
    "  The number of rows where this relationship could possibly hold is:\n",
    "  - [ ] Zero.\n",
    "  - [x] At least one.\n",
    "  - [ ] At most one.\n",
    "  - [ ] Exactly one.\n",
    "  - [ ] It cannot be determined."
   ]
  },
  {
   "cell_type": "code",
   "execution_count": 44,
   "metadata": {
    "tags": []
   },
   "outputs": [
    {
     "output_type": "stream",
     "name": "stdout",
     "text": [
      "1001 + 2002 = 3003\n",
      "row = 14\n",
      "col = 4\n",
      "22956818528739263209286805945 + 38261364214565438682144676575 = 61218182743304701891431482520\n",
      "row = 103\n",
      "col = 38\n",
      "1347746732008672402669326913722178474269404707432924623501476277100221945403650679110890794271261509295653515243122979554286059493548795063169613883576941219647815273266825754679274444248348224865362974400 + 2190088439514092654337656234798540020687782649578502513189898950287860661280932353555197540690799952605436962270074841775714846677016791977650622560812529481927699819058591851353820971903565865406214833400 = 3537835171522765057006983148520718494957187357011427136691375227388082606684583032666088334962061461901090477513197821330000906170565587040820236444389470701575515092325417606033095416151914090271577807800\n",
      "row = 713\n",
      "col = 271\n"
     ]
    }
   ],
   "source": [
    "max = 1000\n",
    "for row in range(1, max):\n",
    "    for col in range(0, row //2):\n",
    "        first = nCk(row, col)\n",
    "        second = nCk(row, col + 1)\n",
    "        third = nCk(row, col+2)\n",
    "        if (first + second) == third:\n",
    "            print(str(first) + \" + \" + str(second) + \" = \" + str(third))\n",
    "            print(\"row = \" + str(row))\n",
    "            print(\"col = \" + str(col)) \n"
   ]
  },
  {
   "cell_type": "markdown",
   "metadata": {},
   "source": [
    "# Investigate Another Possible Relationship\n",
    "Does any row in Pascal's Triangle have three consecutive entries in the ratio 1:2:3? (12:24:36 is an example of three numbers in a 1:2:3 ratio.)?\n",
    "\n",
    "  The number of rows where this relationship could possibly hold is:\n",
    "  - [ ] Zero.\n",
    "  - [ ] At least one.\n",
    "  - [ ] At most one.\n",
    "  - [x] Exactly one.\n",
    "  - [ ] It cannot be determined."
   ]
  },
  {
   "cell_type": "code",
   "execution_count": 45,
   "metadata": {},
   "outputs": [
    {
     "output_type": "stream",
     "name": "stdout",
     "text": [
      "1001 : 2002 : 3003\nrow = 14\ncol = 4\n"
     ]
    }
   ],
   "source": [
    "max = 10000\n",
    "for row in range(1, max):\n",
    "    for col in range(0, row //2):\n",
    "        first = nCk(row, col)\n",
    "        second = nCk(row, col + 1)\n",
    "        third = nCk(row, col + 2)\n",
    "        if first * 2 == second and first * 3 == third:\n",
    "            print(str(first) + \" : \" + str(second) + \" : \" + str(third))\n",
    "            print(\"row = \" + str(row))\n",
    "            print(\"col = \" + str(col)) "
   ]
  },
  {
   "cell_type": "code",
   "execution_count": null,
   "metadata": {},
   "outputs": [],
   "source": []
  }
 ],
 "metadata": {
  "kernelspec": {
   "name": "python3",
   "display_name": "Python 3.8.0 64-bit",
   "metadata": {
    "interpreter": {
     "hash": "fc0940015f1a213f94692d1bb0f6f94a406415fa94d32b2f3f9e51375e35b42e"
    }
   }
  },
  "language_info": {
   "codemirror_mode": {
    "name": "ipython",
    "version": 3
   },
   "file_extension": ".py",
   "mimetype": "text/x-python",
   "name": "python",
   "nbconvert_exporter": "python",
   "pygments_lexer": "ipython3",
   "version": "3.8.0-final"
  }
 },
 "nbformat": 4,
 "nbformat_minor": 4
}