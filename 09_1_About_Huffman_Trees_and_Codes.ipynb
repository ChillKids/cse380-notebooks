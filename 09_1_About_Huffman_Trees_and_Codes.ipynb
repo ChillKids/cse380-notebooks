{
  "nbformat": 4,
  "nbformat_minor": 0,
  "metadata": {
    "colab": {
      "name": "09_1_About_Huffman_Trees_and_Codes.ipynb",
      "provenance": [],
      "collapsed_sections": []
    },
    "kernelspec": {
      "name": "python3",
      "display_name": "Python 3.8.0 64-bit",
      "metadata": {
        "interpreter": {
          "hash": "fc0940015f1a213f94692d1bb0f6f94a406415fa94d32b2f3f9e51375e35b42e"
        }
      }
    }
  },
  "cells": [
    {
      "cell_type": "markdown",
      "metadata": {
        "id": "VPy5vbgRQBMQ"
      },
      "source": [
        "# About Huffman Trees and Codes\n",
        "## Divide Pair Conquer\n",
        "### Due: Monday, 1 March 2021, 11:59 pm"
      ]
    },
    {
      "cell_type": "markdown",
      "metadata": {
        "id": "sgaSqpkyQMwl"
      },
      "source": [
        "## Goal"
      ]
    },
    {
      "cell_type": "markdown",
      "metadata": {
        "id": "_YpNGyjWQbVx"
      },
      "source": [
        "Review Huffman Trees and Codes from DM1 to get ready for your Ponder and Prove assignment."
      ]
    },
    {
      "cell_type": "code",
      "metadata": {
        "id": "7C-ClNTHQkFw",
        "outputId": "b376fd5f-ce3b-4116-a50c-0b35671f6d94",
        "colab": {
          "base_uri": "https://localhost:8080/"
        }
      },
      "source": [
        "from math import ceil, log\n",
        "from collections import Counter\n",
        "\n",
        "def show_results(message, code_tuples):\n",
        "  total_characters = len(message)\n",
        "  total_unique_characters = len(code_tuples)\n",
        "  total_bits = 0\n",
        "  for char, count, code in code_tuples:\n",
        "    total_bits += count * len(code)\n",
        "  average_bits_per_character = total_bits / total_characters\n",
        "  fixed_bits_per_character = ceil(log(total_unique_characters, 2))\n",
        "  total_fixed_bits = total_characters * fixed_bits_per_character\n",
        "  compression_ratio = (total_fixed_bits - total_bits) / total_fixed_bits\n",
        "  print(f'          Total Characters: {total_characters}')\n",
        "  print(f'   Total Unique Characters: {total_unique_characters}')\n",
        "  print(f'                Total Bits: {total_bits}')\n",
        "  print(f'Average Bits per Character: {average_bits_per_character:.2f}')\n",
        "  print(f'  Fixed Bits per Character: {fixed_bits_per_character}')\n",
        "  print(f'          Total Fixed Bits: {total_fixed_bits}')\n",
        "  print(f'         Compression Ratio: {compression_ratio:.3f}')\n",
        "\n",
        "message1 = 'thebookofmormon'\n",
        "counter1 = Counter(message1)\n",
        "\n",
        "print(message1, '-->', counter1)\n",
        "\n",
        "message2 = 'therestoration'\n",
        "\n",
        "counter2 = Counter(message2)\n",
        "\n",
        "print(message2, '-->', counter2)"
      ],
      "execution_count": 11,
      "outputs": [
        {
          "output_type": "stream",
          "name": "stdout",
          "text": [
            "thebookofmormon --> Counter({'o': 5, 'm': 2, 't': 1, 'h': 1, 'e': 1, 'b': 1, 'k': 1, 'f': 1, 'r': 1, 'n': 1})\ntherestoration --> Counter({'t': 3, 'e': 2, 'r': 2, 'o': 2, 'h': 1, 's': 1, 'a': 1, 'i': 1, 'n': 1})\n"
          ]
        }
      ]
    },
    {
      "cell_type": "markdown",
      "metadata": {
        "id": "YnsvrdQkRZIP"
      },
      "source": [
        "### Which message has the lower compression ratio?"
      ]
    },
    {
      "cell_type": "markdown",
      "metadata": {
        "id": "ZQZ9qfo-RgDB"
      },
      "source": [
        "#### Message 1"
      ]
    },
    {
      "cell_type": "markdown",
      "metadata": {
        "id": "66pMEoO_Rkb3"
      },
      "source": [
        "Do all the steps, like the examples in the book, first sorting the counted occurrences:\n",
        "\n",
        "| Char | # |\n",
        "|------|---|\n",
        "|   b  | 1 |\n",
        "|   e  | 1 |\n",
        "|   f  | 1 |\n",
        "|   h  | 1 |\n",
        "|   k  | 1 |\n",
        "|   n  | 1 |\n",
        "|   r  | 1 |\n",
        "|   t  | 1 |\n",
        "|   m  | 2 |\n",
        "|   o  | 5 |"
      ]
    },
    {
      "cell_type": "markdown",
      "metadata": {
        "id": "Sf-Wc2SvSMvh"
      },
      "source": [
        "##### The ever-shrinking queue:"
      ]
    },
    {
      "cell_type": "markdown",
      "metadata": {
        "id": "1NVAHiTySQUZ"
      },
      "source": [
        "* b1 e1 f1 h1 k1 n1 r1 t1 m2 o5\n",
        "* f1 h1 k1 n1 r1 t1 m2 be2 o5\n",
        "* k1 n1 r1 t1 m2 be2 fh2 o5\n",
        "* r1 t1 m2 be2 fh2 kn2 o5\n",
        "* m2 be2 fh2 kn2 rt2 o5\n",
        "* fh2 kn2 rt2 mbe4 o5\n",
        "* rt2 meb4 fhkn4 o5\n",
        "* fhkn4 o5 rtmeb6\n",
        "* rtmbe6 fhkno9\n",
        "* rtmbefhkno15"
      ]
    },
    {
      "cell_type": "markdown",
      "metadata": {
        "id": "FQ542b55SnRo"
      },
      "source": [
        "##### The Huffman Tree:"
      ]
    },
    {
      "cell_type": "code",
      "metadata": {
        "id": "JEatqgo2S2GS"
      },
      "source": [
        "'''\n",
        "       rtmbefhkno15\n",
        "         /        \\\n",
        "     rtmbe6      fhkno9\n",
        "     /   \\        /    \\\n",
        "  rt2   mbe4   fhkn4   o5\n",
        "  /\\    / \\     /   \\\n",
        "r1 t1 m2 be2  fh2   kn2\n",
        "         / \\  / \\   / \\\n",
        "       b1 e1 f1 h1 k1 n1\n",
        "'''"
      ],
      "execution_count": 12,
      "outputs": [
        {
          "output_type": "execute_result",
          "data": {
            "text/plain": [
              "'\\n       rtmbefhkno15\\n         /             rtmbe6      fhkno9\\n     /   \\\\        /      rt2   mbe4   fhkn4   o5\\n  /\\\\    / \\\\     /   r1 t1 m2 be2  fh2   kn2\\n         / \\\\  / \\\\   /        b1 e1 f1 h1 k1 n1\\n'"
            ]
          },
          "metadata": {},
          "execution_count": 12
        }
      ]
    },
    {
      "cell_type": "markdown",
      "metadata": {
        "id": "Zz3k9BfdSqMh"
      },
      "source": [
        "##### The Code Tuples"
      ]
    },
    {
      "cell_type": "markdown",
      "metadata": {
        "id": "k8NwLvJzTzOd"
      },
      "source": [
        "Read the codes from the tree:"
      ]
    },
    {
      "cell_type": "code",
      "metadata": {
        "colab": {
          "base_uri": "https://localhost:8080/"
        },
        "id": "7dT6TB3MS7wY",
        "outputId": "c549846d-a912-48bb-b7e0-b5730cea5f49"
      },
      "source": [
        "message1_code_tuples = \\\n",
        "[('b', 1, '0110'),\n",
        " ('e', 1, '0111'),\n",
        " ('f', 1, '1000'),\n",
        " ('h', 1, '1001'),\n",
        " ('k', 1, '1010'),\n",
        " ('m', 2, '010'),\n",
        " ('n', 1, '1011'),\n",
        " ('o', 5, '11'),\n",
        " ('r', 1, '000'),\n",
        " ('t', 1, '001'),\n",
        "]\n",
        "\n",
        "show_results(message1, message1_code_tuples)"
      ],
      "execution_count": 13,
      "outputs": [
        {
          "output_type": "stream",
          "name": "stdout",
          "text": [
            "          Total Characters: 15\n   Total Unique Characters: 10\n                Total Bits: 46\nAverage Bits per Character: 3.07\n  Fixed Bits per Character: 4\n          Total Fixed Bits: 60\n         Compression Ratio: 0.233\n"
          ]
        }
      ]
    },
    {
      "cell_type": "markdown",
      "metadata": {
        "id": "EekOyNAyVbY3"
      },
      "source": [
        "#### Message 2"
      ]
    },
    {
      "cell_type": "markdown",
      "metadata": {
        "id": "5ktqJRmOVbY3"
      },
      "source": [
        "Do all the steps, like the examples in the book, first sorting the counted occurrences:\n",
        "\n",
        "| Char | # |\n",
        "|------|---|\n",
        "|   a  | 1 |\n",
        "|   h  | 1 |\n",
        "|   i  | 1 |\n",
        "|   n  | 1 |\n",
        "|   s  | 1 |\n",
        "|   e  | 2 |\n",
        "|   o  | 2 |\n",
        "|   r  | 2 |\n",
        "|   t  | 3 |"
      ]
    },
    {
      "cell_type": "markdown",
      "metadata": {
        "id": "BjOIgAZZVbY4"
      },
      "source": [
        "##### The ever-shrinking queue:"
      ]
    },
    {
      "cell_type": "markdown",
      "metadata": {
        "id": "LEVjSFE9VbY4"
      },
      "source": [
        "* a1 h1 i1 n1 s1 e2 o2 r2 t3\n",
        "* i1 n1 s1 e2 o2 r2 ah2 t3\n",
        "* s1 e2 o2 r2 ah2 in2 t3\n",
        "* o2 r2 ah2 in2 t3 se3\n",
        "* ah2 in2 t3 se3 or4\n",
        "* t3 se3 or4 ahin4\n",
        "* or4 ahin4 tse6\n",
        "* tse6 orahin8\n",
        "* tseorahin14"
      ]
    },
    {
      "cell_type": "markdown",
      "metadata": {
        "id": "ZeozgfOLVbY4"
      },
      "source": [
        "##### The Huffman Tree:"
      ]
    },
    {
      "cell_type": "code",
      "metadata": {
        "id": "-2FB2vHtVbY4"
      },
      "source": [
        "'''\n",
        "    tseorahin14\n",
        "    /        \\\n",
        " tse6     orahin8\n",
        "  / \\      /    \\\n",
        "t3 se3   or4   ahin4\n",
        "   / \\   / \\    /   \\\n",
        "  s1 e2 o2 r2 ah2   in2\n",
        "              / \\   / \\\n",
        "             a1 h1 i1 n1\n",
        "'''"
      ],
      "execution_count": 14,
      "outputs": [
        {
          "output_type": "execute_result",
          "data": {
            "text/plain": [
              "'\\n    tseorahin14\\n    /         tse6     orahin8\\n  / \\\\      /    t3 se3   or4   ahin4\\n   / \\\\   / \\\\    /     s1 e2 o2 r2 ah2   in2\\n              / \\\\   /              a1 h1 i1 n1\\n'"
            ]
          },
          "metadata": {},
          "execution_count": 14
        }
      ]
    },
    {
      "cell_type": "markdown",
      "metadata": {
        "id": "Weh87t4iVbY6"
      },
      "source": [
        "##### The Code Tuples"
      ]
    },
    {
      "cell_type": "markdown",
      "metadata": {
        "id": "-uihVyZuVbY6"
      },
      "source": [
        "Read the codes from the tree:"
      ]
    },
    {
      "cell_type": "code",
      "metadata": {
        "id": "3J20ht-dVbY6",
        "outputId": "1254977a-896d-4e1f-9257-63dadc8a8e50",
        "colab": {
          "base_uri": "https://localhost:8080/"
        }
      },
      "source": [
        "message2_code_tuples = \\\n",
        "[('a', 1, '1100'),\n",
        " ('e', 2, '011'),\n",
        " ('h', 1, '1101'),\n",
        " ('i', 1, '1110'),\n",
        " ('n', 1, '1111'),\n",
        " ('o', 2, '100'),\n",
        " ('r', 2, '101'),\n",
        " ('s', 1, '010'),\n",
        " ('t', 3, '00'),\n",
        "]\n",
        "\n",
        "show_results(message2, message2_code_tuples)"
      ],
      "execution_count": 15,
      "outputs": [
        {
          "output_type": "stream",
          "name": "stdout",
          "text": [
            "          Total Characters: 14\n   Total Unique Characters: 9\n                Total Bits: 43\nAverage Bits per Character: 3.07\n  Fixed Bits per Character: 4\n          Total Fixed Bits: 56\n         Compression Ratio: 0.232\n"
          ]
        }
      ]
    },
    {
      "cell_type": "markdown",
      "metadata": {
        "id": "iNVsz1Pixjxg"
      },
      "source": [
        "### TODO Create Data Tree and Code"
      ]
    },
    {
      "cell_type": "markdown",
      "metadata": {
        "id": "5HGwfaArxmyg"
      },
      "source": [
        "More warmup for your Ponder and Prove assignment this week:\n",
        "\n",
        "Create a Huffman Tree and codes for the gaps between the first few prime (except for the gap of size 1 between 2 and 3). Your goal is to find how many is \"few\" enough to have a compression ratio **better than 24%**.\n"
      ]
    },
    {
      "cell_type": "code",
      "metadata": {
        "id": "FH_IiJP54rz8"
      },
      "source": [
        "import math\n",
        "import sys\n",
        "global probabilities\n",
        "probabilities = []\n",
        "\n",
        "class HuffmanCode:\n",
        "    def __init__(self,probability):\n",
        "        self.probability = probability\n",
        "\n",
        "    def position(self, value, index):\n",
        "        for j in range(len(self.probability)):\n",
        "            if(value >= self.probability[j]):\n",
        "                return j\n",
        "        return index-1\n",
        "\n",
        "    def characteristics_huffman_code(self, code):\n",
        "        length_of_code = [len(k) for k in code]\n",
        "\n",
        "        mean_length = sum([a*b for a, b in zip(length_of_code, self.probability)])\n",
        "\n",
        "        print(\"Average length of the code: %f\" % mean_length)\n",
        "\n",
        "    def compute_code(self):\n",
        "        num = len(self.probability)\n",
        "        huffman_code = ['']*num\n",
        "\n",
        "        for i in range(num-2):\n",
        "            val = self.probability[num-i-1] + self.probability[num-i-2]\n",
        "            if(huffman_code[num-i-1] != '' and huffman_code[num-i-2] != ''):\n",
        "                huffman_code[-1] = ['1' + symbol for symbol in huffman_code[-1]]\n",
        "                huffman_code[-2] = ['0' + symbol for symbol in huffman_code[-2]]\n",
        "            elif(huffman_code[num-i-1] != ''):\n",
        "                huffman_code[num-i-2] = '0'\n",
        "                huffman_code[-1] = ['1' + symbol for symbol in huffman_code[-1]]\n",
        "            elif(huffman_code[num-i-2] != ''):\n",
        "                huffman_code[num-i-1] = '1'\n",
        "                huffman_code[-2] = ['0' + symbol for symbol in huffman_code[-2]]\n",
        "            else:\n",
        "                huffman_code[num-i-1] = '1'\n",
        "                huffman_code[num-i-2] = '0'\n",
        "\n",
        "            position = self.position(val, i)\n",
        "            probability = self.probability[0:(len(self.probability) - 2)]\n",
        "            probability.insert(position, val)\n",
        "            if(isinstance(huffman_code[num-i-2], list) and isinstance(huffman_code[num-i-1], list)):\n",
        "                complete_code = huffman_code[num-i-1] + huffman_code[num-i-2]\n",
        "            elif(isinstance(huffman_code[num-i-2], list)):\n",
        "                complete_code = huffman_code[num-i-2] + [huffman_code[num-i-1]]\n",
        "            elif(isinstance(huffman_code[num-i-1], list)):\n",
        "                complete_code = huffman_code[num-i-1] + [huffman_code[num-i-2]]\n",
        "            else:\n",
        "                complete_code = [huffman_code[num-i-2], huffman_code[num-i-1]]\n",
        "\n",
        "            huffman_code = huffman_code[0:(len(huffman_code)-2)]\n",
        "            huffman_code.insert(position, complete_code)\n",
        "\n",
        "        huffman_code[0] = ['0' + symbol for symbol in huffman_code[0]]\n",
        "        huffman_code[1] = ['1' + symbol for symbol in huffman_code[1]]\n",
        "\n",
        "        if(len(huffman_code[1]) == 0):\n",
        "            huffman_code[1] = '1'\n",
        "\n",
        "        count = 0\n",
        "        final_code = ['']*num\n",
        "\n",
        "        for i in range(2):\n",
        "            for j in range(len(huffman_code[i])):\n",
        "                final_code[count] = huffman_code[i][j]\n",
        "                count += 1\n",
        "\n",
        "        final_code = sorted(final_code, key=len)\n",
        "        return final_code"
      ],
      "execution_count": 16,
      "outputs": []
    },
    {
      "cell_type": "code",
      "metadata": {
        "colab": {
          "base_uri": "https://localhost:8080/"
        },
        "id": "7TBjHxPqx9WI",
        "outputId": "b7ec732e-94ae-4705-9439-a215b2e2b329"
      },
      "source": [
        "from sympy import primerange\n",
        "import collections\n",
        "\n",
        "list_of_gaps = []\n",
        "prev = 3\n",
        "gap = 0\n",
        "for i in (range(100, 999)):\n",
        "    prime_list = list(primerange(4, i))\n",
        "    for prime in prime_list:\n",
        "        gap = prime - prev\n",
        "        #print(gap)\n",
        "        prev = prime\n",
        "        list_of_gaps.append(gap)\n",
        "\n",
        "    string = list_of_gaps\n",
        "    freq = {}\n",
        "    for c in string:\n",
        "        if c in freq:\n",
        "            freq[c] += 1\n",
        "        else:\n",
        "            freq[c] = 1\n",
        "\n",
        "    freq = sorted(freq.items(), key=lambda x: x[1], reverse=True)\n",
        "    length = len(string)\n",
        "\n",
        "    probabilities = [float(\"{:.2f}\".format(frequency[1]/length)) for frequency in freq]\n",
        "    probabilities = sorted(probabilities, reverse=True)\n",
        "\n",
        "    huffmanClassObject = HuffmanCode(probabilities)\n",
        "    P = probabilities\n",
        "\n",
        "    huffman_code = huffmanClassObject.compute_code()\n",
        "\n",
        "    tree = []\n",
        "    #print(' Char | Huffman code ')\n",
        "    #print('----------------------')\n",
        "\n",
        "    for id,char in enumerate(freq):\n",
        "        if huffman_code[id]=='':\n",
        "        # print(' %-4r |%12s' % (char[0], 1))\n",
        "            tree.append((char[0], char[1], 1))\n",
        "            continue\n",
        "        #print(' %-4r |%12s' % (char[0], huffman_code[id]))\n",
        "        tree.append((char[0], char[1], huffman_code[id]))\n",
        "\n",
        "    huffmanClassObject.characteristics_huffman_code(huffman_code)\n",
        "    print(tree)\n",
        "    show_results(list(prime_list), tree)"
      ],
      "execution_count": 22,
      "outputs": [
        {
          "output_type": "stream",
          "name": "stdout",
          "text": [
            " Char | Huffman code \n----------------------\n 2    |           1\n 4    |          01\n 6    |         000\n 8    |         001\nAverage length of the code: 1.970000\n[(2, 8, '1'), (4, 7, '01'), (6, 7, '000'), (8, 1, '001')]\n          Total Characters: 23\n   Total Unique Characters: 4\n                Total Bits: 46\nAverage Bits per Character: 2.00\n  Fixed Bits per Character: 2\n          Total Fixed Bits: 46\n         Compression Ratio: 0.000\n"
          ]
        }
      ]
    },
    {
      "source": [
        "## Answer\n",
        "from the 4th Prime all the way until the 908th prime."
      ],
      "cell_type": "markdown",
      "metadata": {
        "id": "9b8lmpyO3F05"
      }
    }
  ]
}