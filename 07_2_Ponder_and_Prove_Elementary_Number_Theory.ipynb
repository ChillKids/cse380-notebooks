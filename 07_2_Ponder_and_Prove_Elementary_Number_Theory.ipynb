{
  "nbformat": 4,
  "nbformat_minor": 0,
  "metadata": {
    "kernelspec": {
      "name": "python3",
      "display_name": "Python 3.8.0 64-bit",
      "metadata": {
        "interpreter": {
          "hash": "fc0940015f1a213f94692d1bb0f6f94a406415fa94d32b2f3f9e51375e35b42e"
        }
      }
    },
    "language_info": {
      "codemirror_mode": {
        "name": "ipython",
        "version": 3
      },
      "file_extension": ".py",
      "mimetype": "text/x-python",
      "name": "python",
      "nbconvert_exporter": "python",
      "pygments_lexer": "ipython3",
      "version": "3.8.0-final"
    },
    "colab": {
      "name": "07_2_Ponder_and_Prove_Elementary_Number_Theory.ipynb",
      "provenance": [],
      "include_colab_link": true
    }
  },
  "cells": [
    {
      "cell_type": "markdown",
      "metadata": {
        "id": "view-in-github",
        "colab_type": "text"
      },
      "source": [
        "<a href=\"https://colab.research.google.com/github/byui-cse/cse380-notebooks/blob/master/07_2_Ponder_and_Prove_Elementary_Number_Theory.ipynb\" target=\"_parent\"><img src=\"https://colab.research.google.com/assets/colab-badge.svg\" alt=\"Open In Colab\"/></a>"
      ]
    },
    {
      "cell_type": "markdown",
      "metadata": {
        "id": "1rG4k7VvQ2WT"
      },
      "source": [
        "# Ponder and Prove Elementary Number Theory\n",
        "#### Due: Saturday, 20 February 2021, 11:59 pm."
      ]
    },
    {
      "cell_type": "markdown",
      "metadata": {
        "id": "W0WxE3IAQ2WU"
      },
      "source": [
        "## Explore Fermat's Little Theorem Further\n"
      ]
    },
    {
      "cell_type": "markdown",
      "metadata": {
        "id": "w2vby9erSjOv"
      },
      "source": [
        "Fermat's Little Theorem (FLT) says that if $N$ is prime, then $N$ divides $X^N - X$.\n",
        "\n",
        "Remember, the contrapositive of the conditional statement in this theorem is that if $N$ **doesn't** divide $X^N - X$ for some $X$, then $N$ **can't** be prime.\n",
        "\n",
        "Unfortunately, this simple primality test doesn't always work, because it can be fooled by **pseudoprimes**.\n",
        "\n",
        "For example, $341 = 11 \\cdot 31$ is not prime. But $341$ **does** divide $2^{341} - 2$ as verified below:"
      ]
    },
    {
      "cell_type": "code",
      "metadata": {
        "id": "NBrPMgZoTLAe"
      },
      "source": [
        "((2 ** 341) - 2) % 341"
      ],
      "execution_count": 98,
      "outputs": [
        {
          "output_type": "execute_result",
          "data": {
            "text/plain": [
              "0"
            ]
          },
          "metadata": {},
          "execution_count": 98
        }
      ]
    },
    {
      "cell_type": "markdown",
      "metadata": {
        "id": "igGoVqAOTTm_"
      },
      "source": [
        "So $341$ is a so-called **base-2 pseudoprime**. What about **base-3**?"
      ]
    },
    {
      "cell_type": "code",
      "metadata": {
        "id": "hwrSZ1xDTVxW"
      },
      "source": [
        "((3 ** 341) - 3) % 341"
      ],
      "execution_count": 99,
      "outputs": [
        {
          "output_type": "execute_result",
          "data": {
            "text/plain": [
              "165"
            ]
          },
          "metadata": {},
          "execution_count": 99
        }
      ]
    },
    {
      "cell_type": "markdown",
      "metadata": {
        "id": "sc9w28MiTZXk"
      },
      "source": [
        "Check that the result is not zero, therefore $341$ is **not** a **base-3 pseudoprime**.\n",
        "\n",
        "Are there any other bases that will not fool the FLT test for $341$?\n",
        "\n",
        "Are there any pseudoprimes that will fool the FLT for **any choice** of base coprime to them?"
      ]
    },
    {
      "cell_type": "markdown",
      "metadata": {
        "id": "AMFTYECVTgy4"
      },
      "source": [
        "### The answer is yes."
      ]
    },
    {
      "cell_type": "markdown",
      "metadata": {
        "id": "u-CxbDylTkYp"
      },
      "source": [
        "Your task is to find the first 4-digit **bullet-proof pseudoprime** (**bppp**) and **prove** (yes, **PROVE**) that it will fool the FLT test for every base coprime to it.\n",
        "\n",
        "Your proof must use all of the following:\n",
        "1. the definition of coprime,\n",
        "2. a consequence of coprimality,\n",
        "3. the factorization of the **bppp**,\n",
        "4. FLT, and the\n",
        "5. CRT (Chinese Remainder Theorem).\n"
      ]
    },
    {
      "cell_type": "code",
      "execution_count": 100,
      "metadata": {},
      "outputs": [],
      "source": [
        "# Finding the first 4 digit bppp\n",
        "# X ^ (N - 1) mod N = 1\n",
        "# For 1000 <= N < 10000\n",
        "\n",
        "# Set of Carmichael number are\n",
        "# 1105 (5 * 13 * 17), 1729 (7 * 13 * 19), 2465 (5 * 17 * 29), 2821 (7 * 13 * 31), 6601 (7 * 23 * 41), 8911 (7 * 19 * 67)\n",
        "\n",
        "#############################################################\n",
        "# According to Korselt's criterial - Carmichael numbers(bppp)\n",
        "# 1. A positive composite integer n is a Carmichael number if and only if n is square-free\n",
        "# 2. for all prime divisors x of n, it is true that x-1 | n-1.\n",
        "# 3. Carmichael numbers are cyclic\n",
        "# 4. No Carmichael numbers with exactly two prime divisors\n",
        "#############################################################\n",
        "\n",
        "from itertools import combinations \n",
        "from functools import partial\n",
        "import math\n",
        "def check2(x):\n",
        "    i = 0\n",
        "    for i in x[1]:\n",
        "        if ((x[0] - 1) % (i-1) != 0):\n",
        "            return False\n",
        "    return True\n",
        "def getCarmichael():\n",
        "    # Requirement 1\n",
        "    square_free = [2, 3, 5, 7, 11, 13, 17, 19, 23, 29, 31, 37, 41, 43, 47, 53, 59, 61, 67, 71, 73, 79, 83, 89, 97 ]\n",
        "    # Requirement 4,3\n",
        "    possible_fact_3 = list(combinations(square_free, 3))\n",
        "    possible_N_3 = [x for x in [*map(lambda x: [math.prod(x), x], possible_fact_3)] if x[0] >= 1000 and x[0] < 10000]\n",
        "    possible_fact_4 = list(combinations(square_free, 4))\n",
        "    possible_N_4 = [x for x in [*map(lambda x: [math.prod(x), x], possible_fact_4)] if x[0] >= 1000 and x[0] < 10000]\n",
        "\n",
        "    # Requiremetn 2\n",
        "    N_3 = [x for x in possible_N_3 if check2(x)]\n",
        "    N_4 = [x for x in possible_N_4 if check2(x)]\n",
        "\n",
        "    N = N_3 + N_4\n",
        "\n",
        "    N = sorted(N, key= lambda x: (x[0]) )\n",
        "    print(N)\n",
        "    return(N)\n"
      ]
    },
    {
      "cell_type": "code",
      "execution_count": 101,
      "metadata": {},
      "outputs": [
        {
          "output_type": "stream",
          "name": "stdout",
          "text": [
            "[[1105, (5, 13, 17)], [1729, (7, 13, 19)], [2465, (5, 17, 29)], [2821, (7, 13, 31)], [6601, (7, 23, 41)], [8911, (7, 19, 67)]]\n[1105, (5, 13, 17)]\nfor 1105 works in \n[2, 3, 4, 0, 6, 7, 8, 9, 0, 11, 12, 0, 14, 0, 16, 0, 18, 19, 0, 21, 22, 23, 24, 0, 0, 27, 28, 29, 0, 31, 32, 33, 0, 0, 36, 37, 38, 0, 0, 41, 42, 43, 44, 0, 46, 47, 48, 49, 0, 0, 0, 53, 54, 0, 56, 57, 58, 59, 0, 61, 62, 63, 64, 0, 66, 67, 0, 69, 0, 71, 72, 73, 74, 0, 76, 77, 0, 79, 0, 81, 82, 83, 84, 0, 86, 87, 88, 89, 0, 0, 92, 93, 94, 0, 96, 97, 98, 99, 0, 101, 0, 103, 0, 0, 106, 107, 108, 109, 0, 111, 112, 113, 114, 0, 116, 0, 118, 0, 0, 121, 122, 123, 124, 0, 126, 127, 128, 129, 0, 131, 132, 133, 134, 0, 0, 137, 138, 139, 0, 141, 142, 0, 144, 0, 146, 147, 148, 149, 0, 151, 152, 0, 154, 0, 0, 157, 158, 159, 0, 161, 162, 163, 164, 0, 166, 167, 168, 0, 0, 171, 172, 173, 174, 0, 176, 177, 178, 179, 0, 181, 0, 183, 184, 0, 186, 0, 188, 189, 0, 191, 192, 193, 194, 0, 196, 197, 198, 199]\n[1729, (7, 13, 19)]\nfor 1729 works in \n[2, 3, 4, 5, 6, 0, 8, 9, 10, 11, 12, 0, 0, 15, 16, 17, 18, 0, 20, 0, 22, 23, 24, 25, 0, 27, 0, 29, 30, 31, 32, 33, 34, 0, 36, 37, 0, 0, 40, 41, 0, 43, 44, 45, 46, 47, 48, 0, 50, 51, 0, 53, 54, 55, 0, 0, 58, 59, 60, 61, 62, 0, 64, 0, 66, 67, 68, 69, 0, 71, 72, 73, 74, 75, 0, 0, 0, 79, 80, 81, 82, 83, 0, 85, 86, 87, 88, 89, 90, 0, 92, 93, 94, 0, 96, 97, 0, 99, 100, 101, 102, 103, 0, 0, 106, 107, 108, 109, 110, 111, 0, 113, 0, 115, 116, 0, 118, 0, 120, 121, 122, 123, 124, 125, 0, 127, 128, 129, 0, 131, 132, 0, 134, 135, 136, 137, 138, 139, 0, 141, 142, 0, 144, 145, 146, 0, 148, 149, 150, 151, 0, 153, 0, 155, 0, 157, 158, 159, 160, 0, 162, 163, 164, 165, 166, 167, 0, 0, 170, 0, 172, 173, 174, 0, 176, 177, 178, 179, 180, 181, 0, 183, 184, 185, 186, 187, 188, 0, 0, 191, 192, 193, 194, 0, 0, 197, 198, 199]\n[2465, (5, 17, 29)]\nfor 2465 works in \n[2, 3, 4, 0, 6, 7, 8, 9, 0, 11, 12, 13, 14, 0, 16, 0, 18, 19, 0, 21, 22, 23, 24, 0, 26, 27, 28, 0, 0, 31, 32, 33, 0, 0, 36, 37, 38, 39, 0, 41, 42, 43, 44, 0, 46, 47, 48, 49, 0, 0, 52, 53, 54, 0, 56, 57, 0, 59, 0, 61, 62, 63, 64, 0, 66, 67, 0, 69, 0, 71, 72, 73, 74, 0, 76, 77, 78, 79, 0, 81, 82, 83, 84, 0, 86, 0, 88, 89, 0, 91, 92, 93, 94, 0, 96, 97, 98, 99, 0, 101, 0, 103, 104, 0, 106, 107, 108, 109, 0, 111, 112, 113, 114, 0, 0, 117, 118, 0, 0, 121, 122, 123, 124, 0, 126, 127, 128, 129, 0, 131, 132, 133, 134, 0, 0, 137, 138, 139, 0, 141, 142, 143, 144, 0, 146, 147, 148, 149, 0, 151, 152, 0, 154, 0, 156, 157, 158, 159, 0, 161, 162, 163, 164, 0, 166, 167, 168, 169, 0, 171, 172, 173, 0, 0, 176, 177, 178, 179, 0, 181, 182, 183, 184, 0, 186, 0, 188, 189, 0, 191, 192, 193, 194, 0, 196, 197, 198, 199]\n[2821, (7, 13, 31)]\nfor 2821 works in \n[2, 3, 4, 5, 6, 0, 8, 9, 10, 11, 12, 0, 0, 15, 16, 17, 18, 19, 20, 0, 22, 23, 24, 25, 0, 27, 0, 29, 30, 0, 32, 33, 34, 0, 36, 37, 38, 0, 40, 41, 0, 43, 44, 45, 46, 47, 48, 0, 50, 51, 0, 53, 54, 55, 0, 57, 58, 59, 60, 61, 0, 0, 64, 0, 66, 67, 68, 69, 0, 71, 72, 73, 74, 75, 76, 0, 0, 79, 80, 81, 82, 83, 0, 85, 86, 87, 88, 89, 90, 0, 92, 0, 94, 95, 96, 97, 0, 99, 100, 101, 102, 103, 0, 0, 106, 107, 108, 109, 110, 111, 0, 113, 114, 115, 116, 0, 118, 0, 120, 121, 122, 123, 0, 125, 0, 127, 128, 129, 0, 131, 132, 0, 134, 135, 136, 137, 138, 139, 0, 141, 142, 0, 144, 145, 146, 0, 148, 149, 150, 151, 152, 153, 0, 0, 0, 157, 158, 159, 160, 0, 162, 163, 164, 165, 166, 167, 0, 0, 170, 171, 172, 173, 174, 0, 176, 177, 178, 179, 180, 181, 0, 183, 184, 185, 0, 187, 188, 0, 190, 191, 192, 193, 194, 0, 0, 197, 198, 199]\n[6601, (7, 23, 41)]\nfor 6601 works in \n[2, 3, 4, 5, 6, 0, 8, 9, 10, 11, 12, 13, 0, 15, 16, 17, 18, 19, 20, 0, 22, 0, 24, 25, 26, 27, 0, 29, 30, 31, 32, 33, 34, 0, 36, 37, 38, 39, 40, 0, 0, 43, 44, 45, 0, 47, 48, 0, 50, 51, 52, 53, 54, 55, 0, 57, 58, 59, 60, 61, 62, 0, 64, 65, 66, 67, 68, 0, 0, 71, 72, 73, 74, 75, 76, 0, 78, 79, 80, 81, 0, 83, 0, 85, 86, 87, 88, 89, 90, 0, 0, 93, 94, 95, 96, 97, 0, 99, 100, 101, 102, 103, 104, 0, 106, 107, 108, 109, 110, 111, 0, 113, 114, 0, 116, 117, 118, 0, 120, 121, 122, 0, 124, 125, 0, 127, 128, 129, 130, 131, 132, 0, 134, 135, 136, 137, 0, 139, 0, 141, 142, 143, 144, 145, 146, 0, 148, 149, 150, 151, 152, 153, 0, 155, 156, 157, 158, 159, 160, 0, 162, 163, 0, 165, 166, 167, 0, 169, 170, 171, 172, 173, 174, 0, 176, 177, 178, 179, 180, 181, 0, 183, 0, 185, 186, 187, 188, 0, 190, 191, 192, 193, 194, 195, 0, 197, 198, 199]\n[8911, (7, 19, 67)]\nfor 8911 works in \n[2, 3, 4, 5, 6, 0, 8, 9, 10, 11, 12, 13, 0, 15, 16, 17, 18, 0, 20, 0, 22, 23, 24, 25, 26, 27, 0, 29, 30, 31, 32, 33, 34, 0, 36, 37, 0, 39, 40, 41, 0, 43, 44, 45, 46, 47, 48, 0, 50, 51, 52, 53, 54, 55, 0, 0, 58, 59, 60, 61, 62, 0, 64, 65, 66, 0, 68, 69, 0, 71, 72, 73, 74, 75, 0, 0, 78, 79, 80, 81, 82, 83, 0, 85, 86, 87, 88, 89, 90, 0, 92, 93, 94, 0, 96, 97, 0, 99, 100, 101, 102, 103, 104, 0, 106, 107, 108, 109, 110, 111, 0, 113, 0, 115, 116, 117, 118, 0, 120, 121, 122, 123, 124, 125, 0, 127, 128, 129, 130, 131, 132, 0, 0, 135, 136, 137, 138, 139, 0, 141, 142, 143, 144, 145, 146, 0, 148, 149, 150, 151, 0, 153, 0, 155, 156, 157, 158, 159, 160, 0, 162, 163, 164, 165, 166, 167, 0, 169, 170, 0, 172, 173, 174, 0, 176, 177, 178, 179, 180, 181, 0, 183, 184, 185, 186, 187, 188, 0, 0, 191, 192, 193, 194, 195, 0, 197, 198, 199]\n"
          ]
        }
      ],
      "source": [
        "# Python3 program to check if N is Fermat pseudoprime \n",
        "# to the base A or not \n",
        "  \n",
        "from math import sqrt \n",
        "  \n",
        "# Function to check if the given number is composite \n",
        "def checkcomposite(n): \n",
        "      \n",
        "    # Check if there is any divisor of n less than sqrt(n) \n",
        "    for i in range(2,int(sqrt(n))+1,1): \n",
        "        if (n % i == 0): \n",
        "            return 1\n",
        "    return 0\n",
        "  \n",
        "# Effectively calculate (x^y) modulo mod \n",
        "def power(x, y, mod): \n",
        "    # Initialize result \n",
        "    res = 1\n",
        "  \n",
        "    while (y): \n",
        "        # If power is odd, then update the answer \n",
        "        if (y & 1): \n",
        "            res = (res * x) % mod \n",
        "  \n",
        "        # Square the number and reduce \n",
        "        # the power to its half \n",
        "        y = y >> 1\n",
        "        x = (x * x) % mod \n",
        "  \n",
        "    # Return the result \n",
        "    return res \n",
        "  \n",
        "# Function to check for Fermat Pseudoprime \n",
        "def Check(a, n): \n",
        "    # If it is composite and satisfy Fermat criterion \n",
        "    if (a > 1 and checkcomposite(n) and power(a, n - 1, n) == 1): \n",
        "        return 1\n",
        "    # Else return 0 \n",
        "    return 0\n",
        "  \n",
        "# Driver code \n",
        "if __name__ == '__main__':\n",
        "    N = getCarmichael()\n",
        "    a = [x for x in range(2, 200)]\n",
        "\n",
        "    for i in N:\n",
        "        print(i)\n",
        "        loopCheck = partial(Check, n = i[0])\n",
        "        print(f\"for {i[0]} works in \")\n",
        "        # Function call \n",
        "        print([*map(lambda x, y: x if y else 0, a, [*map(loopCheck, a)])])\n",
        "  \n",
        "# This code is contributed by \n",
        "# Surendra_Gangwar "
      ]
    },
    {
      "source": [
        "## Prove\n",
        "As the function above, I have used Korselt's criteria to generate a set of pseudoprime. And obviously, some values do not work for pseudoprime. And it is because they are not coprime.  \n",
        "1105 is the first four digits bppp which has the prime factors of (5, 13, 17)\n",
        "### Definition of Coprime\n",
        "Comprime means the gcd of the set of numbers = 1. It is not the only but the first requirement of a composite to be eligible to be a pseudoprime. \n",
        "\n",
        "### A Consequence of Coprimality\n",
        "When N and P are coprime, their gcd can only be 1. In this sense, 1105 because has only square-free prime factors. Only the numbers are multiply by its factors cannot be the X.  \n",
        "By the Modular Arithmetic Property \n",
        "only when N and P are coprime,  \n",
        "$X^{(N)}\\equiv X$ (mod N)  =  $X^{(N - 1)}\\equiv 1$ (mod N)\n",
        "\n",
        "### The Factorization of The bppp\n",
        "Factorization of 1105 is 5, 13, and 17. They are all square-free factors and cyclic.\n",
        "\n",
        "## Actual Prove\n",
        "\n",
        "BY Chinese Remainder Theorem we know that X exists that \n",
        "\n",
        "$ X \\equiv 1$ (mod 5) \n",
        "\n",
        "$ X \\equiv 1$ (mod 13)  \n",
        "\n",
        "$ X \\equiv 1$ (mod 17)  \n",
        "\n",
        "Then by FLT for any X except multiple of $N_i$\n",
        "\n",
        "$ X^{4} \\equiv 1$ (mod 5) \n",
        "\n",
        "$ X^{12} \\equiv 1$ (mod 13)  \n",
        "\n",
        "$ X^{16} \\equiv 1$ (mod 17)  \n",
        "\n",
        "Then by the Modular Arithmetic Property\n",
        "\n",
        "$ X^{4 * 276} \\equiv 1$ (mod 5) \n",
        "\n",
        "$ X^{12 * 92} \\equiv 1$ (mod 13)  \n",
        "\n",
        "$ X^{16 * 69} \\equiv 1$ (mod 17)  \n",
        "\n",
        "Therefore\n",
        "\n",
        "$X^{1104} \\equiv 1$ (mod 5, 13, 17) for any X except the multiple of 5, 13 or 17\n",
        "\n",
        "\n"
      ],
      "cell_type": "markdown",
      "metadata": {}
    },
    {
      "cell_type": "markdown",
      "metadata": {
        "id": "5Cgy_0B4Q2WW"
      },
      "source": [
        "## What is True?\n",
        "Assess yourself on how you did using the checkboxes below. Check a box by putting an 'X' in it only if it is warranted.\n"
      ]
    },
    {
      "cell_type": "markdown",
      "metadata": {
        "id": "81dbKwHenxnT"
      },
      "source": [
        "# TODO My Report on What I Did and What I Learned"
      ]
    },
    {
      "cell_type": "markdown",
      "metadata": {
        "id": "C8BeiIern33B"
      },
      "source": [
        "## Fun\n",
        "Replace these words with your own detailing how you had fun (if you did).\n",
        "\n",
        "I made a Carmichael factory. Put in a range. It can run quite fast."
      ]
    },
    {
      "cell_type": "markdown",
      "metadata": {
        "id": "OzOkZ3son-u9"
      },
      "source": [
        "## New\n",
        "Replace these words with your own detailing what was something new you learned (if anything).  \n",
        "\n",
        "The new thing I learn is the Korselt's criterial. And how Chinese Remainder Theorem can be useful in proving bppp."
      ]
    },
    {
      "cell_type": "markdown",
      "metadata": {
        "id": "mJHvoj6GokaZ"
      },
      "source": [
        "## Meaningful\n",
        "Replace these words with your own detailing what you achieved that was meaningful or that you can build upon.  \n",
        "\n",
        "I have spent a tones of time reading the material, wikipedia page and stack overflow. The whole thing kicked when I understand how the factors of 1105 are prime. And I can use FLT to prove every bases. "
      ]
    },
    {
      "cell_type": "markdown",
      "metadata": {
        "id": "_RBE03fhpNUG"
      },
      "source": [
        "## Other\n",
        "Replace these words with your own describing other topics or sections of your report --- Connections, Collaborator Contributions, or anything else you feel impressed to add.\n",
        "  \n",
        "I was working with Chase. He has given me different resources to look at. And we compared our answer with each other. "
      ]
    },
    {
      "cell_type": "markdown",
      "metadata": {
        "id": "Nrk-8EmgW4NP"
      },
      "source": [
        "# TODO What is True?\n",
        "Click on each warranted checkbox to toggle it to True (or back to False). \n",
        "\n",
        "NOTE: *This only works in Colab. If you run it in some other Jupyter notebook client/server environment you may have to change False to True (or vice versa) manually.*\n",
        "\n",
        "This self-assessment is subject to revision by a grader."
      ]
    },
    {
      "cell_type": "code",
      "metadata": {
        "id": "qGAjzgVRXR4M"
      },
      "source": [
        "#@markdown ## What is True about what I did?\n",
        "#@markdown ### I had fun.\n",
        "cb00 = True #@param {type:'boolean'}\n",
        "#@markdown ### I learned something new.\n",
        "cb01 = True #@param {type:'boolean'}\n",
        "#@markdown ### I achieved something meaningful, or something I can build upon at a later time.\n",
        "cb02 = True #@param {type:'boolean'}\n",
        "#@markdown ## What is true about my report?\n",
        "#@markdown ### I wrote a sufficient number of well-written sentences.\n",
        "cb03 = True #@param {type:'boolean'}\n",
        "#@markdown ### My report is free of mechanical infelicities.\n",
        "cb04 = True #@param {type:'boolean'}\n",
        "#@markdown ### I used Grammarly (or something better described in my report) to check for MIs.\n",
        "cb05 = True #@param {type:'boolean'}\n",
        "#@markdown ### I reported on any connections I found between these problems and something I already know. \n",
        "cb06 = True #@param {type:'boolean'}\n",
        "#@markdown ### I reported who were and what contribution each of my collaborators made.\n",
        "cb07 = True #@param {type:'boolean'}\n",
        "#@markdown ## What is true about my proof?\n",
        "#@markdown ### It succinctly uses the definition of coprime.\n",
        "cb08 = True #@param {type:'boolean'}\n",
        "#@markdown ### It correctly uses the definition of coprime.\n",
        "cb09 = True #@param {type:'boolean'}\n",
        "#@markdown ### It succinctly uses a consequence of comprimality\n",
        "cb10 = True #@param {type:'boolean'}\n",
        "#@markdown ### It correctly uses a consequence of comprimality\n",
        "cb11 = True #@param {type:'boolean'}\n",
        "#@markdown ### It succinctly uses the factorization of the **bppp**,\n",
        "cb12 = True #@param {type:'boolean'}\n",
        "#@markdown ### It correctly uses the factorization of the **bppp**,\n",
        "cb13 = True #@param {type:'boolean'}\n",
        "#@markdown ### It succinctly uses Fermat's Little Theorem. \n",
        "cb14 = True #@param {type:'boolean'}\n",
        "#@markdown ### It correctly uses Fermat's Little Theorem. \n",
        "cb15 = True #@param {type:'boolean'}\n",
        "#@markdown ### It succinctly uses the Chinese Remainder Theorem.\n",
        "cb16 = True #@param {type:'boolean'}\n",
        "#@markdown ### It correctly uses the Chinese Remainder Theorem.\n",
        "cb17 = True #@param {type:'boolean'}\n",
        "\n"
      ],
      "execution_count": 102,
      "outputs": []
    },
    {
      "cell_type": "markdown",
      "metadata": {
        "id": "q8KESLBANSkC"
      },
      "source": [
        "## DO NOT CHANGE ANYTHING IN THE NEXT CODE CELL!!\n",
        "### Delete this cell and the following ones before submitting your work."
      ]
    },
    {
      "cell_type": "code",
      "metadata": {
        "id": "rJ_vaL0DWwoc"
      },
      "source": [
        "points_for_what_I_did = [5]*3\n",
        "points_for_my_report = [7]*5\n",
        "points_for_my_proof = [5]*10\n",
        "points = points_for_what_I_did + points_for_my_report + points_for_my_proof\n",
        "# cb is short for checkbox\n",
        "total = sum(map(lambda n, p: p if eval(f'cb{n:02}') else 0,\n",
        "                range(len(points)), points))             \n",
        "total"
      ],
      "execution_count": 103,
      "outputs": [
        {
          "output_type": "execute_result",
          "data": {
            "text/plain": [
              "100"
            ]
          },
          "metadata": {},
          "execution_count": 103
        }
      ]
    },
    {
      "cell_type": "markdown",
      "metadata": {
        "id": "muxeYgQQKGEU"
      },
      "source": [
        "# For graders"
      ]
    },
    {
      "cell_type": "code",
      "metadata": {
        "id": "c0ldoieNKMTU"
      },
      "source": [
        "#@markdown ---\n",
        "number_of_MIs_found = 0 #@param {type: 'slider', min: 0, max: 5}\n",
        "#@markdown ---\n"
      ],
      "execution_count": 104,
      "outputs": []
    }
  ]
}