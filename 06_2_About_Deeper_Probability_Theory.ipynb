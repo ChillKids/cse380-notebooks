{
  "nbformat": 4,
  "nbformat_minor": 0,
  "metadata": {
    "colab": {
      "name": "06_2_About_Deeper_Probability_Theory.ipynb",
      "provenance": [],
      "include_colab_link": true
    },
    "kernelspec": {
      "name": "python3",
      "display_name": "Python 3.8.0 64-bit",
      "metadata": {
        "interpreter": {
          "hash": "fc0940015f1a213f94692d1bb0f6f94a406415fa94d32b2f3f9e51375e35b42e"
        }
      }
    }
  },
  "cells": [
    {
      "cell_type": "markdown",
      "metadata": {
        "id": "view-in-github",
        "colab_type": "text"
      },
      "source": [
        "<a href=\"https://colab.research.google.com/github/ChillKids/cse380-notebooks/blob/master/06_2_About_Deeper_Probability_Theory.ipynb\" target=\"_parent\"><img src=\"https://colab.research.google.com/assets/colab-badge.svg\" alt=\"Open In Colab\"/></a>"
      ]
    },
    {
      "cell_type": "markdown",
      "metadata": {
        "id": "0jLkxJOoK0gK"
      },
      "source": [
        "# About Deeper Probability Theory\n",
        "## Class Directed Learning\n",
        "### Due: Wednesday, 10 February 2021, 11:59pm"
      ]
    },
    {
      "cell_type": "markdown",
      "metadata": {
        "id": "_3XuHK7JLA1u"
      },
      "source": [
        "## Explore Another Pascal's Triangle Pattern\n"
      ]
    },
    {
      "cell_type": "markdown",
      "metadata": {
        "id": "wjL1DY1ALOcI"
      },
      "source": [
        "### The Distribution of the Odds\n",
        "```\n",
        "                                                                                                    # of 1's\n",
        "                                                                   1                                   1\n",
        "                                                                  1 1                                  2\n",
        "                                                                 1   1                                 2\n",
        "                                                                1 1 1 1                                4\n",
        "                                                               1       1                               2\n",
        "                                                              1 1     1 1                              4\n",
        "                                                             1   1   1   1                             4\n",
        "                                                            1 1 1 1 1 1 1 1                            8\n",
        "                                                           1               1                           2\n",
        "                                                          1 1             1 1                          4\n",
        "                                                         1   1           1   1                         4\n",
        "                                                        1 1 1 1         1 1 1 1                        8\n",
        "                                                       1       1       1       1                       4\n",
        "                                                      1 1     1 1     1 1     1 1                      8\n",
        "                                                     1   1   1   1   1   1   1   1                     8\n",
        "                                                    1 1 1 1 1 1 1 1 1 1 1 1 1 1 1 1                   16\n",
        "                                                   1                               1                   2\n",
        "                                                  1 1                             1 1                  4\n",
        "                                                 1   1                           1   1                 4\n",
        "                                                1 1 1 1                         1 1 1 1                8\n",
        "                                               1       1                       1       1               4\n",
        "                                              1 1     1 1                     1 1     1 1              8\n",
        "                                             1   1   1   1                   1   1   1   1             8\n",
        "                                            1 1 1 1 1 1 1 1                 1 1 1 1 1 1 1 1           16\n",
        "                                           1               1               1               1           4\n",
        "                                          1 1             1 1             1 1             1 1          8\n",
        "                                         1   1           1   1           1   1           1   1         8\n",
        "                                        1 1 1 1         1 1 1 1         1 1 1 1         1 1 1 1       16\n",
        "                                       1       1       1       1       1       1       1       1       8\n",
        "                                      1 1     1 1     1 1     1 1     1 1     1 1     1 1     1 1     16\n",
        "                                     1   1   1   1   1   1   1   1   1   1   1   1   1   1   1   1    16\n",
        "                                    1 1 1 1 1 1 1 1 1 1 1 1 1 1 1 1 1 1 1 1 1 1 1 1 1 1 1 1 1 1 1 1   32\n",
        "                                   1                                                               1   2\n",
        "                                  1 1                                                             1 1 etc.\n",
        "                                 1   1                                                           1   1\n",
        "                                1 1 1 1                                                         1 1 1 1\n",
        "                               1       1                                                       1       1\n",
        "                              1 1     1 1                                                     1 1     1 1\n",
        "                             1   1   1   1                                                   1   1   1   1\n",
        "                            1 1 1 1 1 1 1 1                                                 1 1 1 1 1 1 1 1\n",
        "                           1               1                                               1               1\n",
        "                          1 1             1 1                                             1 1             1 1\n",
        "                         1   1           1   1                                           1   1           1   1\n",
        "                        1 1 1 1         1 1 1 1                                         1 1 1 1         1 1 1 1\n",
        "                       1       1       1       1                                       1       1       1       1\n",
        "                      1 1     1 1     1 1     1 1                                     1 1     1 1     1 1     1 1\n",
        "                     1   1   1   1   1   1   1   1                                   1   1   1   1   1   1   1   1\n",
        "                    1 1 1 1 1 1 1 1 1 1 1 1 1 1 1 1                                 1 1 1 1 1 1 1 1 1 1 1 1 1 1 1 1\n",
        "                   1                               1                               1                               1\n",
        "                  1 1                             1 1                             1 1                             1 1\n",
        "                 1   1                           1   1                           1   1                           1   1\n",
        "                1 1 1 1                         1 1 1 1                         1 1 1 1                         1 1 1 1\n",
        "               1       1                       1       1                       1       1                       1       1\n",
        "              1 1     1 1                     1 1     1 1                     1 1     1 1                     1 1     1 1\n",
        "             1   1   1   1                   1   1   1   1                   1   1   1   1                   1   1   1   1\n",
        "            1 1 1 1 1 1 1 1                 1 1 1 1 1 1 1 1                 1 1 1 1 1 1 1 1                 1 1 1 1 1 1 1 1\n",
        "           1               1               1               1               1               1               1               1\n",
        "          1 1             1 1             1 1             1 1             1 1             1 1             1 1             1 1\n",
        "         1   1           1   1           1   1           1   1           1   1           1   1           1   1           1   1\n",
        "        1 1 1 1         1 1 1 1         1 1 1 1         1 1 1 1         1 1 1 1         1 1 1 1         1 1 1 1         1 1 1 1\n",
        "       1       1       1       1       1       1       1       1       1       1       1       1       1       1       1       1\n",
        "      1 1     1 1     1 1     1 1     1 1     1 1     1 1     1 1     1 1     1 1     1 1     1 1     1 1     1 1     1 1     1 1\n",
        "     1   1   1   1   1   1   1   1   1   1   1   1   1   1   1   1   1   1   1   1   1   1   1   1   1   1   1   1   1   1   1   1\n",
        "    1 1 1 1 1 1 1 1 1 1 1 1 1 1 1 1 1 1 1 1 1 1 1 1 1 1 1 1 1 1 1 1 1 1 1 1 1 1 1 1 1 1 1 1 1 1 1 1 1 1 1 1 1 1 1 1 1 1 1 1 1 1 1 1\n",
        "\n",
        "```"
      ]
    },
    {
      "cell_type": "markdown",
      "metadata": {
        "id": "qLKo-LYUMsui"
      },
      "source": [
        "### In terms of parity (counting odd numbers in each row)"
      ]
    },
    {
      "cell_type": "markdown",
      "metadata": {
        "id": "QwTMr_TZLsXZ"
      },
      "source": [
        " | n | n in binary | no. of ones in n's binary rep. | $2^{\\mbox{no. of ones}}$ |\n",
        " |---|-------------|--------------------------------|--------------------------|\n",
        " | 0 |          00 |                              0 | $2^0 = 1$                |\n",
        " | 1 |          01 |                              1 | $2^1 = 2$                |\n",
        " | 2 |          10 |                              1 | $2^1 = 2$                |\n",
        " | 3 |          11 |                              2 | $2^2 = 4$                |\n"
      ]
    },
    {
      "cell_type": "markdown",
      "metadata": {
        "id": "-Vxk-ujlMgNX"
      },
      "source": [
        "### In terms of the Binomial Theorem's $(1 + x)^n$ reduced mod 2"
      ]
    },
    {
      "cell_type": "markdown",
      "metadata": {
        "id": "LW528ZrdMpki"
      },
      "source": [
        "In the following, ```rm2``` stands for 'reduced mod 2'.\n",
        "\n",
        "1. Expand and reduce: $$(1 + x)^2 = 1 + 2x + x^2,\\ \\mbox{rm2} \\Rightarrow 1 + 0x + x^2 = 1 + x^2$$\n",
        "2. Try with an odd power: $$(1 + x)^3 = (1 + 2x + x^2) + (x + 2x^2 + x^3) = 1 + 3x + 3x^2 + x^3,\\ \\mbox{rm2} \\Rightarrow 1 + 1x + 1x^2 + x^3$$\n",
        "3. Better stick with even: $$(1 + x)^4 = 1 + 4x + 6x^2 + 4x^3 + x^4,\\ \\mbox{rm2} \\Rightarrow 1 + x^4$$\n",
        "4. Or decomposed into power of 2 powers: $$(1 + x)^{11} = (1 + x)^{8 + 2 + 1} = (1 + x)^8 (1 + x)^2 (1 + x)^1,\\ \\mbox{rm2} \\Rightarrow (1 + x^8)(1 + x^2)(1 + x^1)$$"
      ]
    },
    {
      "cell_type": "markdown",
      "metadata": {
        "id": "px7pyDP7OiEk"
      },
      "source": [
        "# What is the probability"
      ]
    },
    {
      "cell_type": "markdown",
      "metadata": {
        "id": "693coRaEOtyl"
      },
      "source": [
        "that a randomly chosen number from Pascal's Triangle is even?  \n",
        "To assume the size of the triangle is not infinite and we are assuming the question is asking the probability of the randomly chosen number from a complete Pascal's triangle in which the height of the triangle is equal to $2^n$    \n",
        "  \n",
        "num = 1 -> 2 -> 3 -> 4 -> 5 -> $num + 1$  \n",
        "base = 2 -> 4 -> 8 -> 16 -> 32 ->  $2 ^{num}$   \n",
        "denum = 3 -> 10 -> $\\frac{base (1 + base) }{2}$  \n",
        "even = 0 -> 1 -> 9 -> $ 3 even_{-1} + \\frac{(base - 1) (base)} {2}$  \n",
        "percentage = $\\frac{even}{denum}$  "
      ]
    },
    {
      "cell_type": "code",
      "metadata": {
        "id": "VFTv5ytngVu0",
        "outputId": "a823025d-5213-4d1c-c4fd-2fe15e508ad3"
      },
      "source": [
        "def recursive(dest, even = 0, base = 2, n = 1):\n",
        "    if n == dest:\n",
        "        return even\n",
        "    even = even * 3 + (base - 1) * base / 2\n",
        "    n += 1\n",
        "    return recursive(dest, even, 2 ** n, n) \n",
        "    \n",
        "\n",
        "n = 100\n",
        "base = 2 ** (n)\n",
        "denum =  (1 + base) * base / 2\n",
        "even = recursive(n)\n",
        "print(f\"In the {n} layers of traingle or until line {base}\")\n",
        "print(f\"the probability of getting an even number is {even / denum}\")\n",
        "print()\n",
        "\n"
      ],
      "execution_count": null,
      "outputs": [
        {
          "output_type": "stream",
          "text": [
            "In the 100 layers of traingle or until line 1267650600228229401496703205376\n",
            "the probability of getting an even number is 0.9999999999993586\n",
            "\n"
          ],
          "name": "stdout"
        }
      ]
    },
    {
      "cell_type": "markdown",
      "metadata": {
        "id": "vRqZbqW-O0O6"
      },
      "source": [
        "Hint: Use the complementary probability that a randomly chosen number from Pascal's Triangle is odd!\n"
      ]
    },
    {
      "cell_type": "code",
      "metadata": {
        "id": "1D4_EH5HgVu7",
        "outputId": "8c19293d-1fdc-4125-b9b5-8590ce07b4ae"
      },
      "source": [
        "import decimal\n",
        "def recursive(dest, even = 0, base = 2, n = 1):\n",
        "    if n == dest:\n",
        "        return even\n",
        "    even = even * 3 + (base - 1) * base / 2\n",
        "    n += 1\n",
        "    return recursive(dest, even, 2 ** n, n) \n",
        "    \n",
        "\n",
        "n = 100\n",
        "base = 2 ** (n)\n",
        "denum =  (1 + base) * base / 2\n",
        "even = recursive(n)\n",
        "print(f\"In the {n} layers of traingle or until line {base}\")\n",
        "print(f\"the probability of getting an odd number is {1 - even / denum})\")\n",
        "print()"
      ],
      "execution_count": null,
      "outputs": [
        {
          "output_type": "stream",
          "text": [
            "In the 100 layers of traingle or until line 1267650600228229401496703205376\n",
            "the probability of getting an odd number is 6.413758413259529e-13)\n",
            "\n"
          ],
          "name": "stdout"
        }
      ]
    },
    {
      "cell_type": "code",
      "metadata": {
        "id": "UZm-kvh-gVu_",
        "outputId": "77b58e62-5288-4835-ad03-e2a169498a55"
      },
      "source": [
        "# Another Approach from Brother Neff\n",
        "from sympy import *\n",
        "def oddProbi(n): \n",
        "    return 3 ** n / ((1 + 2 ** (n)) * 2 ** (n) / 2)\n",
        "\n",
        "x = symbols('x')\n",
        "f = limit (oddProbi(x), x, oo, '+')\n",
        "\n",
        "\n",
        "print(f\"In the infinite layers of traingle or until line infinty\")\n",
        "print(f\"the probability of getting an even number is {f}\")\n",
        "print()"
      ],
      "execution_count": null,
      "outputs": [
        {
          "output_type": "stream",
          "text": [
            "In the infinite layers of traingle or until line infinty\n",
            "the probability of getting an even number is 0\n",
            "\n"
          ],
          "name": "stdout"
        }
      ]
    },
    {
      "cell_type": "markdown",
      "metadata": {
        "id": "PuPBcEKvgVvG"
      },
      "source": [
        "## Justification of probability 0 or 1  \n",
        "Issues: When the pascal triangle tends to infinity, the probability of getting an $\\color{red}{even}$ number will also tend to 1. And likewise, the $\\color{red}{even}$ number will tend to 0.  \n",
        "Still reseaching... Any hints?"
      ]
    },
    {
      "cell_type": "markdown",
      "metadata": {
        "id": "HNm_DN5JO8j4"
      },
      "source": [
        "```\n",
        "                                                                                                               Total # of 1's\n",
        "  What if you numbered the rows starting at 1 instead of 0?        1                                   1             1\n",
        "                                                                  1 1                                  2             3\n",
        "                                                                 1   1                                 3\n",
        "                                                                1 1 1 1                                4             9\n",
        "                                                               1       1                               5\n",
        "                                                              1 1     1 1                              6\n",
        "                                                             1   1   1   1                             7\n",
        "                                                            1 1 1 1 1 1 1 1                            8            27\n",
        "                                                           1               1                           9\n",
        "                                                          1 1             1 1                         10\n",
        "                                                         1   1           1   1                        11\n",
        "                                                        1 1 1 1         1 1 1 1                       12\n",
        "                                                       1       1       1       1                      13\n",
        "                                                      1 1     1 1     1 1     1 1                     14\n",
        "                                                     1   1   1   1   1   1   1   1                    15\n",
        "                                                    1 1 1 1 1 1 1 1 1 1 1 1 1 1 1 1                   16            81\n",
        "                                                   1                               1                  17\n",
        "                                                  1 1                             1 1                 18\n",
        "                                                 1   1                           1   1                19\n",
        "                                                1 1 1 1                         1 1 1 1               20\n",
        "                                               1       1                       1       1              21\n",
        "                                              1 1     1 1                     1 1     1 1             22\n",
        "                                             1   1   1   1                   1   1   1   1            23\n",
        "                                            1 1 1 1 1 1 1 1                 1 1 1 1 1 1 1 1           24\n",
        "                                           1               1               1               1          25\n",
        "                                          1 1             1 1             1 1             1 1         26\n",
        "                                         1   1           1   1           1   1           1   1        27\n",
        "                                        1 1 1 1         1 1 1 1         1 1 1 1         1 1 1 1       28\n",
        "                                       1       1       1       1       1       1       1       1      29\n",
        "                                      1 1     1 1     1 1     1 1     1 1     1 1     1 1     1 1     30\n",
        "                                     1   1   1   1   1   1   1   1   1   1   1   1   1   1   1   1    31\n",
        "                                    1 1 1 1 1 1 1 1 1 1 1 1 1 1 1 1 1 1 1 1 1 1 1 1 1 1 1 1 1 1 1 1   32          243\n",
        "                                   1                                                               1\n",
        "                                  1 1                                                             1 1\n",
        "                                 1   1                                                           1   1\n",
        "                                1 1 1 1                                                         1 1 1 1\n",
        "                               1       1                                                       1       1\n",
        "                              1 1     1 1                                                     1 1     1 1\n",
        "                             1   1   1   1                                                   1   1   1   1\n",
        "                            1 1 1 1 1 1 1 1                                                 1 1 1 1 1 1 1 1\n",
        "                           1               1                                               1               1\n",
        "                          1 1             1 1                                             1 1             1 1\n",
        "                         1   1           1   1                                           1   1           1   1\n",
        "                        1 1 1 1         1 1 1 1                                         1 1 1 1         1 1 1 1\n",
        "                       1       1       1       1                                       1       1       1       1\n",
        "                      1 1     1 1     1 1     1 1                                     1 1     1 1     1 1     1 1\n",
        "                     1   1   1   1   1   1   1   1                                   1   1   1   1   1   1   1   1\n",
        "                    1 1 1 1 1 1 1 1 1 1 1 1 1 1 1 1                                 1 1 1 1 1 1 1 1 1 1 1 1 1 1 1 1\n",
        "                   1                               1                               1                               1\n",
        "                  1 1                             1 1                             1 1                             1 1\n",
        "                 1   1                           1   1                           1   1                           1   1\n",
        "                1 1 1 1                         1 1 1 1                         1 1 1 1                         1 1 1 1\n",
        "               1       1                       1       1                       1       1                       1       1\n",
        "              1 1     1 1                     1 1     1 1                     1 1     1 1                     1 1     1 1\n",
        "             1   1   1   1                   1   1   1   1                   1   1   1   1                   1   1   1   1\n",
        "            1 1 1 1 1 1 1 1                 1 1 1 1 1 1 1 1                 1 1 1 1 1 1 1 1                 1 1 1 1 1 1 1 1\n",
        "           1               1               1               1               1               1               1               1\n",
        "          1 1             1 1             1 1             1 1             1 1             1 1             1 1             1 1\n",
        "         1   1           1   1           1   1           1   1           1   1           1   1           1   1           1   1\n",
        "        1 1 1 1         1 1 1 1         1 1 1 1         1 1 1 1         1 1 1 1         1 1 1 1         1 1 1 1         1 1 1 1\n",
        "       1       1       1       1       1       1       1       1       1       1       1       1       1       1       1       1\n",
        "      1 1     1 1     1 1     1 1     1 1     1 1     1 1     1 1     1 1     1 1     1 1     1 1     1 1     1 1     1 1     1 1\n",
        "     1   1   1   1   1   1   1   1   1   1   1   1   1   1   1   1   1   1   1   1   1   1   1   1   1   1   1   1   1   1   1   1\n",
        "    1 1 1 1 1 1 1 1 1 1 1 1 1 1 1 1 1 1 1 1 1 1 1 1 1 1 1 1 1 1 1 1 1 1 1 1 1 1 1 1 1 1 1 1 1 1 1 1 1 1 1 1 1 1 1 1 1 1 1 1 1 1 1 1\n",
        "```"
      ]
    },
    {
      "cell_type": "markdown",
      "metadata": {
        "id": "r9EGrclRhYIT"
      },
      "source": [
        "# feedback"
      ]
    },
    {
      "cell_type": "markdown",
      "metadata": {
        "id": "dAKkkx_VhbHv"
      },
      "source": [
        "Your ideas are generally correct, but I found and hilighted a contradiction."
      ]
    }
  ]
}