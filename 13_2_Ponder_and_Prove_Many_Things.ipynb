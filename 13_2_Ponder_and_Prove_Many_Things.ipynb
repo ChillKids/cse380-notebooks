{
  "nbformat": 4,
  "nbformat_minor": 0,
  "metadata": {
    "colab": {
      "name": "13_2_Ponder_and_Prove_Many_Things.ipynb",
      "provenance": [],
      "authorship_tag": "ABX9TyO8IULuqVjJlvplhZWUq5VK",
      "include_colab_link": true
    },
    "kernelspec": {
      "name": "python38064bit21d41be37e5046cc98421755eee3ac62",
      "display_name": "Python 3.8.0 64-bit"
    },
    "language_info": {
      "name": "python",
      "version": "3.8.0"
    },
    "metadata": {
      "interpreter": {
        "hash": "fc0940015f1a213f94692d1bb0f6f94a406415fa94d32b2f3f9e51375e35b42e"
      }
    }
  },
  "cells": [
    {
      "cell_type": "markdown",
      "metadata": {
        "id": "view-in-github",
        "colab_type": "text"
      },
      "source": [
        "<a href=\"https://colab.research.google.com/github/byui-cse/cse380-notebooks/blob/master/13_2_Ponder_and_Prove_Many_Things.ipynb\" target=\"_parent\"><img src=\"https://colab.research.google.com/assets/colab-badge.svg\" alt=\"Open In Colab\"/></a>"
      ]
    },
    {
      "cell_type": "markdown",
      "metadata": {
        "id": "0GZOWnts9NAD"
      },
      "source": [
        "# Ponder and Prove Many Things\n",
        "## Due: Thursday, 1 April 2021, 11:59 pm"
      ]
    },
    {
      "cell_type": "markdown",
      "metadata": {
        "id": "S5XdXGMv9dy4"
      },
      "source": [
        "### Is It Decidable?"
      ]
    },
    {
      "cell_type": "markdown",
      "metadata": {
        "id": "Gzy9wIboAVvi"
      },
      "source": [
        "#### TODO Study and run the code below."
      ]
    },
    {
      "cell_type": "markdown",
      "metadata": {
        "id": "218Qmbtx9lP6"
      },
      "source": [
        "And answer these questions:\n",
        "1. What is this program computing?\n",
        "2. How does it do it?\n",
        "3. Will it ever terminate?\n",
        "\n",
        "Answer  \n",
        "1. Straight from the program, it is printing out list of number which is the exponantial of 2 with a ambigious distance   \n",
        "2. Every time i will be updated by $i_{x+1} = i_{x} * \\frac{flibbers[n]}{flobbers[n]}$ , i = 2.  if $i_{x} * flibbers[n]$ is divisible by $flobbers[n]$  \n",
        "3. It will never terminate because every integer is the multiple of 1. Therefore, at the end of each for loop time_keeps_ticking will turn back to True "
      ]
    },
    {
      "cell_type": "code",
      "metadata": {
        "id": "LfltDFaw9trA"
      },
      "source": [
        "from math import log2\n",
        "\n",
        "def you_decide():\n",
        "  flibbers = [17,78,19,23,29,77,95,77,1,11,13,15,15,55]\n",
        "  flobbers = [91,85,51,38,33,29,23,19,17,13,11,14,2,1]\n",
        "  i = 2\n",
        "  time_keeps_ticking = True\n",
        "  while time_keeps_ticking:   # loop while i * flibbers[n] is the mulitiple of flobbers  \n",
        "    time_keeps_ticking = False\n",
        "    for n in range(len(flibbers)):  #looping every element in the list\n",
        "      f = i * flibbers[n]\n",
        "      if not f % flobbers[n]:  # if i * flibbers[n] is the mulitiple of flobbers[n] \n",
        "        i = f // flobbers[n]   # i_x = i_x-1 * flibbers[n] // flobbers[n]\n",
        "        p = log2(i)           # only print when i is the expontential of 2\n",
        "        if p.is_integer():\n",
        "          print(i)\n",
        "        time_keeps_ticking = True\n",
        "        break"
      ],
      "execution_count": 5,
      "outputs": []
    },
    {
      "cell_type": "code",
      "metadata": {
        "id": "fGZ9lZCP9xWC",
        "tags": []
      },
      "source": [
        "you_decide()"
      ],
      "execution_count": 6,
      "outputs": [
        {
          "output_type": "stream",
          "name": "stdout",
          "text": [
            "4\n",
            "8\n",
            "32\n",
            "128\n",
            "2048\n",
            "8192\n",
            "131072\n",
            "524288\n",
            "8388608\n",
            "536870912\n",
            "2147483648\n",
            "137438953472\n",
            "2199023255552\n",
            "8796093022208\n",
            "140737488355328\n",
            "9007199254740992\n",
            "576460752303423488\n",
            "2305843009213693952\n",
            "147573952589676412928\n",
            "2361183241434822606848\n",
            "9444732965739290427392\n"
          ]
        },
        {
          "output_type": "error",
          "ename": "KeyboardInterrupt",
          "evalue": "",
          "traceback": [
            "\u001b[1;31m---------------------------------------------------------------------------\u001b[0m",
            "\u001b[1;31mKeyboardInterrupt\u001b[0m                         Traceback (most recent call last)",
            "\u001b[1;32m<ipython-input-6-7e16ef8f7eca>\u001b[0m in \u001b[0;36m<module>\u001b[1;34m\u001b[0m\n\u001b[1;32m----> 1\u001b[1;33m \u001b[0myou_decide\u001b[0m\u001b[1;33m(\u001b[0m\u001b[1;33m)\u001b[0m\u001b[1;33m\u001b[0m\u001b[1;33m\u001b[0m\u001b[0m\n\u001b[0m",
            "\u001b[1;32m<ipython-input-5-29f60f26d00a>\u001b[0m in \u001b[0;36myou_decide\u001b[1;34m()\u001b[0m\n\u001b[0;32m     10\u001b[0m     \u001b[1;32mfor\u001b[0m \u001b[0mn\u001b[0m \u001b[1;32min\u001b[0m \u001b[0mrange\u001b[0m\u001b[1;33m(\u001b[0m\u001b[0mlen\u001b[0m\u001b[1;33m(\u001b[0m\u001b[0mflibbers\u001b[0m\u001b[1;33m)\u001b[0m\u001b[1;33m)\u001b[0m\u001b[1;33m:\u001b[0m  \u001b[1;31m#looping every element in the list\u001b[0m\u001b[1;33m\u001b[0m\u001b[1;33m\u001b[0m\u001b[0m\n\u001b[0;32m     11\u001b[0m       \u001b[0mf\u001b[0m \u001b[1;33m=\u001b[0m \u001b[0mi\u001b[0m \u001b[1;33m*\u001b[0m \u001b[0mflibbers\u001b[0m\u001b[1;33m[\u001b[0m\u001b[0mn\u001b[0m\u001b[1;33m]\u001b[0m\u001b[1;33m\u001b[0m\u001b[1;33m\u001b[0m\u001b[0m\n\u001b[1;32m---> 12\u001b[1;33m       \u001b[1;32mif\u001b[0m \u001b[1;32mnot\u001b[0m \u001b[0mf\u001b[0m \u001b[1;33m%\u001b[0m \u001b[0mflobbers\u001b[0m\u001b[1;33m[\u001b[0m\u001b[0mn\u001b[0m\u001b[1;33m]\u001b[0m\u001b[1;33m:\u001b[0m  \u001b[1;31m# if i * flibbers[n] is the mulitiple of flobbers[n]\u001b[0m\u001b[1;33m\u001b[0m\u001b[1;33m\u001b[0m\u001b[0m\n\u001b[0m\u001b[0;32m     13\u001b[0m         \u001b[0mi\u001b[0m \u001b[1;33m=\u001b[0m \u001b[0mf\u001b[0m \u001b[1;33m//\u001b[0m \u001b[0mflobbers\u001b[0m\u001b[1;33m[\u001b[0m\u001b[0mn\u001b[0m\u001b[1;33m]\u001b[0m   \u001b[1;31m# i_x = i_x-1 * flibbers[n] // flobbers[n]\u001b[0m\u001b[1;33m\u001b[0m\u001b[1;33m\u001b[0m\u001b[0m\n\u001b[0;32m     14\u001b[0m         \u001b[0mp\u001b[0m \u001b[1;33m=\u001b[0m \u001b[0mlog2\u001b[0m\u001b[1;33m(\u001b[0m\u001b[0mi\u001b[0m\u001b[1;33m)\u001b[0m           \u001b[1;31m# only print when i is the expontential of 2\u001b[0m\u001b[1;33m\u001b[0m\u001b[1;33m\u001b[0m\u001b[0m\n",
            "\u001b[1;31mKeyboardInterrupt\u001b[0m: "
          ]
        }
      ]
    },
    {
      "cell_type": "markdown",
      "metadata": {
        "id": "oqZ3784B-EyX"
      },
      "source": [
        "### Fun With Decidability"
      ]
    },
    {
      "cell_type": "markdown",
      "metadata": {
        "id": "aeiVo2WpkySc"
      },
      "source": [
        "#### TODO Read and Share"
      ]
    },
    {
      "cell_type": "markdown",
      "metadata": {
        "id": "i13mpSpd-O39"
      },
      "source": [
        "Read [Can't Decide? Undecide! by Chaim Goodman-Strauss](https://strauss.hosted.uark.edu/papers/decide.pdf)\n",
        "\n",
        "Share six things that you found interesting in this paper.\n",
        "\n",
        "Share six things that you already knew or had heard about before. (These can overlap with the first six.)\n",
        "\n",
        "Write one to two sentences for each of the things you share.\n"
      ]
    },
    {
      "source": [
        "#### Interesting\n",
        "1. When I was trying to do more research on the tiling problem, I have found a solution online using Quantum annealing. An alternative method is to cut a tile into a tone of small retangles and calculate.\n",
        "2. There is not a turing mechine can solve a halting problem. If such a turing mechine exist, then we will need another turing mechine to determine this mechine does not have a halting problem. \n",
        "3. Heesch number of a shape is the maximum number of layers of copies of the same shape that can surround it.  \n",
        "4. Turing mechine can be represented by a while loop.  \n",
        "5. NP-hard Problem is actually really common.\n",
        "6. Semi-deciable is basically recursive enumerable \n",
        "\n",
        "#### Have heard\n",
        "1. Tiling Problem for aperiodic tile is almost impossible\n",
        "2. There is not a turing mechine can solve a halting problem. If such a turing mechine exist, then we will need another turing mechine to determine this mechine does not have a halting problem. \n",
        "3. Heesch number of a shape is the maximum number of layers of copies of the same shape that can surround it.  \n",
        "4. Turing mechine can be represented by a while loop.  \n",
        "5. NP-hard Problem is actually really common.\n",
        "6. Semi-deciable is listable in the last assignment "
      ],
      "cell_type": "markdown",
      "metadata": {}
    },
    {
      "cell_type": "markdown",
      "metadata": {
        "id": "gjeWZ0Mo-r6E"
      },
      "source": [
        "### The Map of Mathematics"
      ]
    },
    {
      "cell_type": "markdown",
      "metadata": {
        "id": "xFFVrRTl-wY9"
      },
      "source": [
        "[The entire field of mathematics summarized in a single map!](https://www.youtube.com/watch?v=OmJ-4B-mS-Y) --- direct link, or embedded below.\n",
        "\n",
        "This video shows how pure mathematics and applied mathematics relate to each other and all of the sub-topics they are made from."
      ]
    },
    {
      "cell_type": "code",
      "metadata": {
        "id": "Wd_Ny-gS-zpk"
      },
      "source": [
        "from IPython.display import YouTubeVideo\n",
        "YouTubeVideo('OmJ-4B-mS-Y') # 11 minutes 5 seconds"
      ],
      "execution_count": null,
      "outputs": []
    },
    {
      "cell_type": "markdown",
      "metadata": {
        "id": "8PD-pimc-1dk"
      },
      "source": [
        "#### TODO Watch and Share"
      ]
    },
    {
      "cell_type": "markdown",
      "metadata": {
        "id": "9WIEkJ0p-9JD"
      },
      "source": [
        "Share six things that you found interesting in this video.\n",
        "\n",
        "Share six things that you already knew or had heard about before. (These can overlap with the first six.)\n",
        "\n",
        "Write one to two sentences for each of the things you share.\n"
      ]
    },
    {
      "source": [
        "#### Interesting\n",
        "1. The Decret Math class in the school has covered like 50% of the material in pure math.\n",
        "3. Combinatoric is describing a chunk of countable nodes.\n",
        "4. Rubric belongs to a permutation group.  \n",
        "5. Fractal geometry is a special pattern which scale invariant, which means you can zoom into them forever and the always look kind <- highfalutin\n",
        "6. Very complex electrical systems like aeroplanes or the power grid use methods in dynamical systems called control theory.  \n",
        "\n",
        "#### Have heard\n",
        "1. The basic difference of pure math and apply math\n",
        "2. Basic number theory catagorization \n",
        "3. Set theory and Math logic gave definition to some math instead of much calculation  \n",
        "4. Game Thoery and statistic are the basic of economics \n",
        "5. Computer science exist way before a computer was built\n",
        "6. Godel imcompleteless thoery prove that there is no standard axioms for any languages "
      ],
      "cell_type": "code",
      "metadata": {},
      "execution_count": null,
      "outputs": []
    },
    {
      "cell_type": "markdown",
      "metadata": {
        "id": "nfxMo9bl_TZA"
      },
      "source": [
        "### The Map of Computer Science"
      ]
    },
    {
      "cell_type": "markdown",
      "metadata": {
        "id": "bM9Dst0d_tIW"
      },
      "source": [
        "[The field of computer science similarly summarized.](https://www.youtube.com/watch?v=SzJ46YA_RaA) --- direct link, or embedded below."
      ]
    },
    {
      "cell_type": "code",
      "metadata": {
        "id": "LnBJvrbi_xIp"
      },
      "source": [
        "from IPython.display import YouTubeVideo\n",
        "YouTubeVideo('SzJ46YA_RaA') # 10 minutes 57 seconds"
      ],
      "execution_count": null,
      "outputs": []
    },
    {
      "cell_type": "markdown",
      "metadata": {
        "id": "5194ShLd_zjU"
      },
      "source": [
        "#### TODO Watch and Share"
      ]
    },
    {
      "cell_type": "markdown",
      "metadata": {
        "id": "zTI_XHCU_1HW"
      },
      "source": [
        "Share six things that you found interesting in this video.\n",
        "\n",
        "Share six things that you already knew or had heard about before. (These can overlap with the first six.)\n",
        "\n",
        "Write one to two sentences for each of the things you share."
      ]
    },
    {
      "source": [
        "#### Interesting\n",
        "1. Turing mechine is a mechine which to read tape and the difference it has with the state mechine is simply the state reader.  \n",
        "2. Lambda calculus is the basic of the modern computing mechine -> any program can be translate to lambda calculus style.   \n",
        "3. Information Theory takes in compression and Coding Theory.\n",
        "4. Silicon -> Bios -> OS -> Application \n",
        "5. Internet of things and big data set up the foundation of nowaday AI and mechine learning \n",
        "6. Super Computing is usually being applied in the area of scientific simulation  \n",
        "\n",
        "#### Have heard\n",
        "1. Computabtional complexity is almost impossible to have the exact answer. Just like the halting problem. However, it is possible to find the approximation.   \n",
        "2. Computer Engineering is the bridge between Computational thoery and optimize the real world computer to calculate those problems. \n",
        "3. Scheduler is one of the componants in the cpu to make threading or pipeline possible. \n",
        "4. OS job is what we interact with and it controls how all of the other programs are run on the hardware.  \n",
        "5. By artificial intelligence, a lot of SAT problems can be solved by an approximate answer  \n",
        "6. Computer Vision is to help computer to see not to create vision "
      ],
      "cell_type": "markdown",
      "metadata": {}
    },
    {
      "cell_type": "markdown",
      "metadata": {
        "id": "fPu3fWgR_3hI"
      },
      "source": [
        "### SKIP Report"
      ]
    },
    {
      "cell_type": "markdown",
      "metadata": {
        "id": "JoO9lagO_5lt"
      },
      "source": [
        "The sentences you have already (supposedly) written will suffice."
      ]
    },
    {
      "cell_type": "markdown",
      "metadata": {
        "id": "shpEERFS_87F"
      },
      "source": [
        "### SKIP Self-Assessment"
      ]
    },
    {
      "cell_type": "markdown",
      "metadata": {
        "id": "yWvKYeqc__bX"
      },
      "source": [
        "Instead, you will have ilearn peer reviews to complete."
      ]
    }
  ]
}