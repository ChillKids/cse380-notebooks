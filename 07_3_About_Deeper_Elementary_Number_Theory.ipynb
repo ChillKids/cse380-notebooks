{
  "nbformat": 4,
  "nbformat_minor": 0,
  "metadata": {
    "colab": {
      "name": " 07_3_About_Deeper_Elementary_Number_Theory.ipynb",
      "provenance": [],
      "authorship_tag": "ABX9TyNCszEDhr4Gkb1LILMNegWc",
      "include_colab_link": true
    },
    "kernelspec": {
      "name": "python3",
      "display_name": "Python 3.8.0 64-bit",
      "metadata": {
        "interpreter": {
          "hash": "fc0940015f1a213f94692d1bb0f6f94a406415fa94d32b2f3f9e51375e35b42e"
        }
      }
    }
  },
  "cells": [
    {
      "cell_type": "markdown",
      "metadata": {
        "id": "view-in-github",
        "colab_type": "text"
      },
      "source": [
        "<a href=\"https://colab.research.google.com/github/byui-cse/cse380-notebooks/blob/master/07_3_About_Deeper_Elementary_Number_Theory.ipynb\" target=\"_parent\"><img src=\"https://colab.research.google.com/assets/colab-badge.svg\" alt=\"Open In Colab\"/></a>"
      ]
    },
    {
      "cell_type": "markdown",
      "metadata": {
        "id": "fKBSJ5Hh6UMv"
      },
      "source": [
        "# About Deeper Elementary Number Theory\n",
        "## Class Directed Learning\n",
        "### Due: Wednesday, 17 February 2021, 11:59 pm"
      ]
    },
    {
      "cell_type": "markdown",
      "metadata": {
        "id": "yx-XMrWE6hEw"
      },
      "source": [
        "## Read and Ponder\n",
        "https://byui-cse.github.io/cse380-course/about-deeper-elementary-number-theory.pdf\n",
        "\n",
        "Put your answers in cells you will add below.\n",
        "\n",
        "Above and beyond behavior: Incorporate the material in the PDF into this notebook."
      ]
    },
    {
      "cell_type": "code",
      "execution_count": 130,
      "metadata": {},
      "outputs": [
        {
          "output_type": "stream",
          "name": "stdout",
          "text": [
            "Number of Prime: 5761456\napproximate : 0.054286810267377056\nActual: 0.057614560576145606\n"
          ]
        }
      ],
      "source": [
        "import math\n",
        "import pyprimesieve\n",
        "\n",
        "k = 8\n",
        "all = 10 ** k - 1\n",
        "i = 1\n",
        "# if k = 8, number of prime = 5761456\n",
        "# if k = 7, number of prime = 664580\n",
        "# if k = 6, number of prime = 78499\n",
        "# if k = 5, number of prime = 9593\n",
        "# if k = 4, number of prime = 1230\n",
        "# if k = 3, number of prime = 169\n",
        "if (k >= 6):\n",
        "    i = 5761456\n",
        "\n",
        "while (pyprimesieve.primes_nth(i) < all):\n",
        "    i += 1\n",
        "\n",
        "print(\"Number of Prime: \" + str(i))\n",
        "primes = ((all) / math.log(all))\n",
        "print(f\"approximate : {primes / all}\")\n",
        "print(f\"Actual: {i / all}\")"
      ]
    },
    {
      "cell_type": "code",
      "execution_count": null,
      "metadata": {},
      "outputs": [],
      "source": []
    }
  ]
}